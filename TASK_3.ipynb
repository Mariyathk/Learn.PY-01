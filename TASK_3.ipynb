{
  "nbformat": 4,
  "nbformat_minor": 0,
  "metadata": {
    "colab": {
      "name": "TASK 3.ipynb",
      "provenance": []
    },
    "kernelspec": {
      "name": "python3",
      "display_name": "Python 3"
    },
    "language_info": {
      "name": "python"
    }
  },
  "cells": [
    {
      "cell_type": "markdown",
      "metadata": {
        "id": "z20IIB0eUQMN"
      },
      "source": [
        "1 - Write a program which takes a number as input from the user and check whether the number is odd or even.If odd print the number is odd if not print it is even."
      ]
    },
    {
      "cell_type": "code",
      "metadata": {
        "id": "dVgGJ-wTVRit"
      },
      "source": [
        "num = int (input(\"Enter the number: \"))\n",
        "chk = num % 2\n",
        "if chk == 0 :\n",
        "  print(\"num is even\")\n",
        "else :\n",
        "    print(\"num is odd\")"
      ],
      "execution_count": null,
      "outputs": []
    },
    {
      "cell_type": "markdown",
      "metadata": {
        "id": "7778XD8PVblj"
      },
      "source": [
        "2 -Write a program to find the largest among three numbers and print the largest number."
      ]
    },
    {
      "cell_type": "code",
      "metadata": {
        "id": "m0tUOkOFWR-d",
        "colab": {
          "base_uri": "https://localhost:8080/"
        },
        "outputId": "991c6d1e-6148-4537-ef75-eb0fcd492a69"
      },
      "source": [
        "num1 = float(input(\"Enter the first number: \"))\n",
        "num2 = float(input(\"Enter the second number: \"))\n",
        "num3 = float(input(\"Enter the third number: \"))\n",
        "\n",
        "if (num1 >= num2) and (num1 >= num3):\n",
        "  Largest = num1\n",
        "elif (num2 >= num1) and (num2 >= num3):\n",
        "  Largest = num2\n",
        "else :\n",
        "  largest = num3\n",
        "\n",
        "print(\"The Largest number is \", Largest)\n"
      ],
      "execution_count": 26,
      "outputs": [
        {
          "output_type": "stream",
          "text": [
            "Enter the first number: 23\n",
            "Enter the second number: 45\n",
            "Enter the third number: 7\n",
            "The Largest number is  45.0\n"
          ],
          "name": "stdout"
        }
      ]
    },
    {
      "cell_type": "markdown",
      "metadata": {
        "id": "Jg2Ns4OQWaJy"
      },
      "source": [
        "3 -Write a function to prompt for a score between 0.0 and 1.0.\n",
        "\n",
        "    If the score is out of range, print an error.\n",
        "    If the score is between 0.0 and 1.0, print a grade using the following table:\n",
        "    Score Grade\n",
        "             Score\tGrade\n",
        "            >= 0.9\tA\n",
        "            >= 0.8\tB\n",
        "            >= 0.7\tC\n",
        "            >= 0.6\tD\n",
        "             < 0.6\tF\n",
        "If the user enters a value out of range, print a suitable error message and exit. For the test, enter a score of 0.85."
      ]
    },
    {
      "cell_type": "code",
      "metadata": {
        "id": "6DLbGe6XXZPx",
        "colab": {
          "base_uri": "https://localhost:8080/"
        },
        "outputId": "ea736120-f656-4b91-8eb2-a4a2e14b0204"
      },
      "source": [
        "s = score = float(input(\"Enter the score: \"))\n",
        "if (s>=0.9) and (s<=1.0):\n",
        "  print('A')\n",
        "elif(s>=0.8) and (s<0.9):\n",
        "  print('B')\n",
        "elif(s>=0.7) and (s<0.8):\n",
        "  print('C')\n",
        "elif(s>=0.6) and (s<0.7):\n",
        "  print('D')\n",
        "else :\n",
        "  try :\n",
        "    if (s<=0.0) or (s>=1.0):\n",
        "      print('Error, Score is out of range. Please enter score between 0.0 and 1.0')\n",
        "  except : \n",
        "      quit()"
      ],
      "execution_count": 35,
      "outputs": [
        {
          "output_type": "stream",
          "text": [
            "Enter the score: 0.85\n",
            "B\n"
          ],
          "name": "stdout"
        }
      ]
    },
    {
      "cell_type": "markdown",
      "metadata": {
        "id": "-o0scDq7WkVT"
      },
      "source": [
        ""
      ]
    }
  ]
}