{
  "nbformat": 4,
  "nbformat_minor": 0,
  "metadata": {
    "colab": {
      "name": "TASK 1",
      "provenance": [],
      "include_colab_link": true
    },
    "kernelspec": {
      "name": "python3",
      "display_name": "Python 3"
    },
    "language_info": {
      "name": "python"
    }
  },
  "cells": [
    {
      "cell_type": "markdown",
      "metadata": {
        "id": "view-in-github",
        "colab_type": "text"
      },
      "source": [
        "<a href=\"https://colab.research.google.com/github/Mariyathk/Learn.PY-01/blob/main/TASK_1.ipynb\" target=\"_parent\"><img src=\"https://colab.research.google.com/assets/colab-badge.svg\" alt=\"Open In Colab\"/></a>"
      ]
    },
    {
      "cell_type": "markdown",
      "metadata": {
        "id": "q-yWxfWESiQo"
      },
      "source": [
        "1.Write a program that uses input to prompt a user for their name and then welcomes them."
      ]
    },
    {
      "cell_type": "code",
      "metadata": {
        "id": "kZupMfdcn14C",
        "colab": {
          "base_uri": "https://localhost:8080/"
        },
        "outputId": "4b5be0fb-b20c-4478-cdbf-393da6e72d65"
      },
      "source": [
        "name = input(\"Enter your name: \")\n",
        "print ('Hello', name)"
      ],
      "execution_count": 1,
      "outputs": [
        {
          "output_type": "stream",
          "text": [
            "Enter your name: Mariyath k\n",
            "Hello Mariyath k\n"
          ],
          "name": "stdout"
        }
      ]
    },
    {
      "cell_type": "markdown",
      "metadata": {
        "id": "Ay5OdxguS-2Z"
      },
      "source": [
        "2.Write a program which prompts the user for a Celsius temperature, convert the temperature to Fahrenheit, and print out the converted temperature."
      ]
    },
    {
      "cell_type": "code",
      "metadata": {
        "id": "MMv2yWNtTgEu",
        "colab": {
          "base_uri": "https://localhost:8080/"
        },
        "outputId": "652a56e3-8bcf-4abf-8370-879b4d213b05"
      },
      "source": [
        "print ('Celsius to Fahrenheit Convertion')\n",
        "\n",
        "cls = float(input('Celcius: '))\n",
        "fht = (cls * 9 / 5) + 32\n",
        "\n",
        "print ('Fahrenheit: ' + str(fht))"
      ],
      "execution_count": 5,
      "outputs": [
        {
          "output_type": "stream",
          "text": [
            "Celsius to Fahrenheit Convertion\n",
            "Celcius: 45\n",
            "Fahrenheit: 113.0\n"
          ],
          "name": "stdout"
        }
      ]
    },
    {
      "cell_type": "markdown",
      "metadata": {
        "id": "v6O1a198TpNd"
      },
      "source": [
        "3.Write a Python program to convert degree to radian."
      ]
    },
    {
      "cell_type": "code",
      "metadata": {
        "id": "27Jj4_D0UQBA",
        "colab": {
          "base_uri": "https://localhost:8080/"
        },
        "outputId": "9f1fad5f-56c5-46fe-f2c7-0d16443c9bda"
      },
      "source": [
        "pi = 3.143\n",
        "degree = float(input(\"Degrees: \"))\n",
        "radian = degree * (pi / 180)\n",
        "\n",
        "print(radian)"
      ],
      "execution_count": 9,
      "outputs": [
        {
          "output_type": "stream",
          "text": [
            "Degrees: 90\n",
            "1.5715000000000001\n"
          ],
          "name": "stdout"
        }
      ]
    }
  ]
}