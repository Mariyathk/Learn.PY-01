{
  "nbformat": 4,
  "nbformat_minor": 0,
  "metadata": {
    "colab": {
      "name": "Copy of TASK 1",
      "provenance": []
    },
    "kernelspec": {
      "name": "python3",
      "display_name": "Python 3"
    },
    "language_info": {
      "name": "python"
    }
  },
  "cells": [
    {
      "cell_type": "markdown",
      "metadata": {
        "id": "q-yWxfWESiQo"
      },
      "source": [
        "1.Write a program that uses input to prompt a user for their name and then welcomes them."
      ]
    },
    {
      "cell_type": "code",
      "metadata": {
        "id": "9ikpRxqMSxu0",
        "colab": {
          "base_uri": "https://localhost:8080/"
        },
        "outputId": "c3811648-0759-424a-d896-b4268408b70f"
      },
      "source": [
        "name = input(\"Enter your name: \")\n",
        "print ('Hello', name)\n"
      ],
      "execution_count": null,
      "outputs": [
        {
          "output_type": "stream",
          "text": [
            "Enter your name: Mariyath k\n",
            "Hello Mariyath k\n"
          ],
          "name": "stdout"
        }
      ]
    },
    {
      "cell_type": "markdown",
      "metadata": {
        "id": "Ay5OdxguS-2Z"
      },
      "source": [
        "2.Write a program which prompts the user for a Celsius temperature, convert the temperature to Fahrenheit, and print out the converted temperature."
      ]
    },
    {
      "cell_type": "code",
      "metadata": {
        "id": "MMv2yWNtTgEu",
        "colab": {
          "base_uri": "https://localhost:8080/"
        },
        "outputId": "95f3843b-2e0f-4b36-fba8-8c11ca7b2482"
      },
      "source": [
        "print ('Celsius to Fahrenheit Convertion')\n",
        "\n",
        "cls = float(input('Celcius: '))\n",
        "fht = (cls * 9 / 5) + 32\n",
        "\n",
        "print ('Fahrenheit: ' + str(fht))\n"
      ],
      "execution_count": null,
      "outputs": [
        {
          "output_type": "stream",
          "text": [
            "Celsius to Fahrenheit Convertion\n",
            "Celcius: 45\n",
            "Fahrenheit: 113.0\n"
          ],
          "name": "stdout"
        }
      ]
    },
    {
      "cell_type": "markdown",
      "metadata": {
        "id": "v6O1a198TpNd"
      },
      "source": [
        "3.Write a Python program to convert degree to radian."
      ]
    },
    {
      "cell_type": "code",
      "metadata": {
        "id": "27Jj4_D0UQBA",
        "colab": {
          "base_uri": "https://localhost:8080/"
        },
        "outputId": "6717fa04-2c55-4e37-ac92-c5b699a3f632"
      },
      "source": [
        "pi = 3.143\n",
        "degree = float(input(\"Degrees: \"))\n",
        "radian = degree * (pi / 180)\n",
        "\n",
        "print(radian)\n"
      ],
      "execution_count": null,
      "outputs": [
        {
          "output_type": "stream",
          "text": [
            "Degrees: 90\n",
            "1.5715000000000001\n"
          ],
          "name": "stdout"
        }
      ]
    }
  ]
}