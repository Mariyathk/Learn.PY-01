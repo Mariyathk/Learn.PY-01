{
  "nbformat": 4,
  "nbformat_minor": 0,
  "metadata": {
    "colab": {
      "name": "TASK  7.ipynb",
      "provenance": [],
      "include_colab_link": true
    },
    "kernelspec": {
      "name": "python3",
      "display_name": "Python 3"
    },
    "language_info": {
      "name": "python"
    }
  },
  "cells": [
    {
      "cell_type": "markdown",
      "metadata": {
        "id": "view-in-github",
        "colab_type": "text"
      },
      "source": [
        "<a href=\"https://colab.research.google.com/github/Mariyathk/Learn.PY-01/blob/main/TASK_7.ipynb\" target=\"_parent\"><img src=\"https://colab.research.google.com/assets/colab-badge.svg\" alt=\"Open In Colab\"/></a>"
      ]
    },
    {
      "cell_type": "markdown",
      "metadata": {
        "id": "b0V3vwzcydKy"
      },
      "source": [
        "1. Write a program to check whether a  string is palindrome or not using functions. \n",
        "\n",
        "   ( A function is to be created to check whether the string is palindrome and it should give the output true or false to the main program)"
      ]
    },
    {
      "cell_type": "code",
      "metadata": {
        "id": "M2Mi7EOdyxiu",
        "outputId": "b25055a0-1ff2-43ec-a827-c53c3cb781a7",
        "colab": {
          "base_uri": "https://localhost:8080/"
        }
      },
      "source": [
        "def isPalindrome(s):\n",
        "  return s == s[::-1]\n",
        "\n",
        "s=\"MALAYALAM\"\n",
        "ans=isPalindrome\n",
        "\n",
        "if ans:\n",
        "  print(\"YES\")\n",
        "else:\n",
        "  print(NO)"
      ],
      "execution_count": 8,
      "outputs": [
        {
          "output_type": "stream",
          "text": [
            "MALAYALAM\n",
            "YES\n"
          ],
          "name": "stdout"
        }
      ]
    },
    {
      "cell_type": "markdown",
      "metadata": {
        "id": "vSiShTyOzEz-"
      },
      "source": [
        "2.  Write a menu driven program to find largest element in L, smallest element, avg of all values, sum of all values in L. All these operation should be performed in different functions and the result should be returned.\n",
        "\n",
        "\n",
        "      L=[23,24,11,90,1,41,9,99,28,56,72]"
      ]
    },
    {
      "cell_type": "code",
      "metadata": {
        "id": "6rq3PSfVx-yl",
        "outputId": "8f2099cc-f03f-4241-f722-463794da0af5",
        "colab": {
          "base_uri": "https://localhost:8080/"
        }
      },
      "source": [
        "L=[23,24,11,90,1,41,9,99,28,56,72]\n",
        "def components(L):\n",
        "  return \n",
        "L.sort()\n",
        "average = Average(L)\n",
        "total = sum(L)\n",
        "print(\"Largest element: \",L[-1])\n",
        "print(\"Smallest element: \",L[0])\n",
        "print(\"Average of all values: \",average)\n",
        "print(\"Sum of all values in L: \",total)"
      ],
      "execution_count": 21,
      "outputs": [
        {
          "output_type": "stream",
          "text": [
            "Largest element:  99\n",
            "Smallest element:  1\n",
            "Average of all values:  41.27272727272727\n",
            "Sum of all values in L:  454\n"
          ],
          "name": "stdout"
        }
      ]
    }
  ]
}