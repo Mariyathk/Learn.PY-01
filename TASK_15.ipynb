{
  "nbformat": 4,
  "nbformat_minor": 0,
  "metadata": {
    "colab": {
      "name": "TASK 15.ipynb",
      "provenance": [],
      "include_colab_link": true
    },
    "kernelspec": {
      "name": "python3",
      "display_name": "Python 3"
    },
    "language_info": {
      "name": "python"
    }
  },
  "cells": [
    {
      "cell_type": "markdown",
      "metadata": {
        "id": "view-in-github",
        "colab_type": "text"
      },
      "source": [
        "<a href=\"https://colab.research.google.com/github/Mariyathk/Learn.PY-01/blob/main/TASK_15.ipynb\" target=\"_parent\"><img src=\"https://colab.research.google.com/assets/colab-badge.svg\" alt=\"Open In Colab\"/></a>"
      ]
    },
    {
      "cell_type": "markdown",
      "metadata": {
        "id": "mmfmNpvywy0n"
      },
      "source": [
        "1. For the given ndarray b below, evaluate whether elements in array, b are equal to 'red'.Assign the result to b_bool and print the resultant boolean array.\n",
        "b = np.array([\"blue\", \"blue\", \"red\", \"blue\"])"
      ]
    },
    {
      "cell_type": "code",
      "metadata": {
        "id": "KyVrfhasw7SW",
        "colab": {
          "base_uri": "https://localhost:8080/"
        },
        "outputId": "ed4d1d4a-8fc5-4e8f-837e-610755b7329a"
      },
      "source": [
        "b = np.array([\"blue\",\"blue\",\"red\",\"blue\"])\n",
        "b_bool = b == \"red\"\n",
        "b_bool"
      ],
      "execution_count": 16,
      "outputs": [
        {
          "output_type": "execute_result",
          "data": {
            "text/plain": [
              "array([False, False,  True, False])"
            ]
          },
          "metadata": {
            "tags": []
          },
          "execution_count": 16
        }
      ]
    },
    {
      "cell_type": "code",
      "metadata": {
        "id": "tgXD864Fyufa",
        "colab": {
          "base_uri": "https://localhost:8080/"
        },
        "outputId": "d9d20bf9-af11-4d83-fbd0-8d28a274b85d"
      },
      "source": [
        "import numpy as np\n",
        "\n",
        "b = np.array([\"blue\", \"blue\", \"red\", \"blue\"])\n",
        "b_bool_1 = []\n",
        "\n",
        "for x in b:\n",
        "    if 'red' in x:\n",
        "        b_bool_1.append(True)\n",
        "        continue\n",
        "    b_bool_1.append(False)\n",
        "\n",
        "b_bool = np.array(b_bool_1)\n",
        "print(b_bool)"
      ],
      "execution_count": 21,
      "outputs": [
        {
          "output_type": "stream",
          "text": [
            "[False False  True False]\n"
          ],
          "name": "stdout"
        }
      ]
    },
    {
      "cell_type": "markdown",
      "metadata": {
        "id": "1IEqtJSDzx3p"
      },
      "source": [
        "2. Create two arrays on containing elements from 0-5 and another containing elements from 6-10. Then append this array."
      ]
    },
    {
      "cell_type": "code",
      "metadata": {
        "id": "7PXETiqF0Jeo",
        "colab": {
          "base_uri": "https://localhost:8080/"
        },
        "outputId": "c7f83e7f-d3b0-4795-a3ad-bb672fec38dd"
      },
      "source": [
        "import numpy as np\n",
        "arr_1 = np.arange(0,6)\n",
        "arr_2 = np.arange(6,11)\n",
        "np.append(arr_1,arr_2)"
      ],
      "execution_count": null,
      "outputs": [
        {
          "output_type": "execute_result",
          "data": {
            "text/plain": [
              "array([ 0,  1,  2,  3,  4,  5,  6,  7,  8,  9, 10])"
            ]
          },
          "metadata": {
            "tags": []
          },
          "execution_count": 2
        }
      ]
    },
    {
      "cell_type": "markdown",
      "metadata": {
        "id": "6JqR9EeB0P6K"
      },
      "source": [
        "3. Create a 2x4 array containing values from 0-7 and another 2x4 containing values from 8-15. Now append this with,\n",
        "\n",
        "  a) axis as 0\n",
        "\n",
        "  b) axis as 1"
      ]
    },
    {
      "cell_type": "code",
      "metadata": {
        "id": "AVhGyXzr1Pd8",
        "colab": {
          "base_uri": "https://localhost:8080/"
        },
        "outputId": "1d65a086-2178-4311-93a7-7fb30de36b2d"
      },
      "source": [
        "import numpy as np\n",
        "arr_1 = np.arange(0,8).reshape(2,4)\n",
        "arr_2 = np.arange(8,16).reshape(2,4)\n",
        "ar1 = np.append(arr_1,arr_2,axis = 0)\n",
        "ar2 = np.append(arr_1,arr_2,axis = 1)\n",
        "print(ar1)\n",
        "print(ar2)"
      ],
      "execution_count": null,
      "outputs": [
        {
          "output_type": "stream",
          "text": [
            "[[ 0  1  2  3]\n",
            " [ 4  5  6  7]\n",
            " [ 8  9 10 11]\n",
            " [12 13 14 15]]\n",
            "[[ 0  1  2  3  8  9 10 11]\n",
            " [ 4  5  6  7 12 13 14 15]]\n"
          ],
          "name": "stdout"
        }
      ]
    },
    {
      "cell_type": "code",
      "metadata": {
        "id": "Sk4iZfhTvE3d",
        "colab": {
          "base_uri": "https://localhost:8080/"
        },
        "outputId": "d0b7806a-680b-4c76-92a3-28d89ccd3046"
      },
      "source": [
        "import numpy as np\n",
        "\n",
        "arr1 = np.array([x for x in range(0, 8)]).reshape(2, 4)\n",
        "arr2 = np.array([x for x in range(8, 16)]).reshape(2, 4)\n",
        "\n",
        "con = np.concatenate((arr1, arr2), axis=0)\n",
        "con1 = np.concatenate((arr1, arr2), axis=1)\n",
        "print('axis - 0:\\n', con)\n",
        "print('axis - 1 :\\n', con1)"
      ],
      "execution_count": null,
      "outputs": [
        {
          "output_type": "stream",
          "text": [
            "axis - 0:\n",
            " [[ 0  1  2  3]\n",
            " [ 4  5  6  7]\n",
            " [ 8  9 10 11]\n",
            " [12 13 14 15]]\n",
            "axis - 1 :\n",
            " [[ 0  1  2  3  8  9 10 11]\n",
            " [ 4  5  6  7 12 13 14 15]]\n"
          ],
          "name": "stdout"
        }
      ]
    }
  ]
}