{
  "nbformat": 4,
  "nbformat_minor": 0,
  "metadata": {
    "colab": {
      "name": "TASK 15.ipynb",
      "provenance": [],
      "include_colab_link": true
    },
    "kernelspec": {
      "name": "python3",
      "display_name": "Python 3"
    },
    "language_info": {
      "name": "python"
    }
  },
  "cells": [
    {
      "cell_type": "markdown",
      "metadata": {
        "id": "view-in-github",
        "colab_type": "text"
      },
      "source": [
        "<a href=\"https://colab.research.google.com/github/Mariyathk/Learn.PY-01/blob/main/TASK_15.ipynb\" target=\"_parent\"><img src=\"https://colab.research.google.com/assets/colab-badge.svg\" alt=\"Open In Colab\"/></a>"
      ]
    },
    {
      "cell_type": "markdown",
      "metadata": {
        "id": "mmfmNpvywy0n"
      },
      "source": [
        "1. For the given ndarray b below, evaluate whether elements in array, b are equal to 'red'.Assign the result to b_bool and print the resultant boolean array.\n",
        "b = np.array([\"blue\", \"blue\", \"red\", \"blue\"])"
      ]
    },
    {
      "cell_type": "code",
      "metadata": {
        "id": "KyVrfhasw7SW",
        "colab": {
          "base_uri": "https://localhost:8080/"
        },
        "outputId": "b16f7e19-1ee4-479a-ef56-09d1ada3c224"
      },
      "source": [
        "import numpy as np\n",
        "b = np.array([\"blue\",\"blue\",\"red\",\"blue\"])\n",
        "b_bool = b == \"red\"\n",
        "b_bool"
      ],
      "execution_count": 10,
      "outputs": [
        {
          "output_type": "execute_result",
          "data": {
            "text/plain": [
              "array([False, False,  True, False])"
            ]
          },
          "metadata": {
            "tags": []
          },
          "execution_count": 10
        }
      ]
    },
    {
      "cell_type": "code",
      "metadata": {
        "id": "tgXD864Fyufa",
        "colab": {
          "base_uri": "https://localhost:8080/"
        },
        "outputId": "65b50d66-9d63-485f-9575-d3e82ddcf283"
      },
      "source": [
        "import numpy as np\n",
        "\n",
        "b = np.array([\"blue\", \"blue\", \"red\", \"blue\"])\n",
        "b_bool_1 = []\n",
        "\n",
        "for x in b:\n",
        "    if 'red' in x:\n",
        "        b_bool_1.append(True)\n",
        "        continue\n",
        "    b_bool_1.append(False)\n",
        "\n",
        "b_bool = np.array(b_bool_1)\n",
        "print(b_bool)"
      ],
      "execution_count": 12,
      "outputs": [
        {
          "output_type": "stream",
          "text": [
            "[False False  True False]\n"
          ],
          "name": "stdout"
        }
      ]
    },
    {
      "cell_type": "markdown",
      "metadata": {
        "id": "1IEqtJSDzx3p"
      },
      "source": [
        "2. Create two arrays on containing elements from 0-5 and another containing elements from 6-10. Then append this array."
      ]
    },
    {
      "cell_type": "code",
      "metadata": {
        "id": "7PXETiqF0Jeo",
        "colab": {
          "base_uri": "https://localhost:8080/"
        },
        "outputId": "f021764c-cfe5-4347-d951-2a9bc451ec44"
      },
      "source": [
        "import numpy as np\n",
        "arr_1 = np.arange(0,6)\n",
        "arr_2 = np.arange(6,11)\n",
        "np.append(arr_1,arr_2)"
      ],
      "execution_count": 13,
      "outputs": [
        {
          "output_type": "execute_result",
          "data": {
            "text/plain": [
              "array([ 0,  1,  2,  3,  4,  5,  6,  7,  8,  9, 10])"
            ]
          },
          "metadata": {
            "tags": []
          },
          "execution_count": 13
        }
      ]
    },
    {
      "cell_type": "markdown",
      "metadata": {
        "id": "6JqR9EeB0P6K"
      },
      "source": [
        "3. Create a 2x4 array containing values from 0-7 and another 2x4 containing values from 8-15. Now append this with,\n",
        "\n",
        "  a) axis as 0\n",
        "\n",
        "  b) axis as 1"
      ]
    },
    {
      "cell_type": "code",
      "metadata": {
        "id": "AVhGyXzr1Pd8",
        "colab": {
          "base_uri": "https://localhost:8080/"
        },
        "outputId": "c8fa96a9-3ada-44d1-9ec8-a811b01e01b8"
      },
      "source": [
        "import numpy as np\n",
        "arr_1 = np.arange(0,8).reshape(2,4)\n",
        "arr_2 = np.arange(8,16).reshape(2,4)\n",
        "ar1 = np.append(arr_1,arr_2,axis = 0)\n",
        "ar2 = np.append(arr_1,arr_2,axis = 1)\n",
        "print(ar1)\n",
        "print(ar2)"
      ],
      "execution_count": 14,
      "outputs": [
        {
          "output_type": "stream",
          "text": [
            "[[ 0  1  2  3]\n",
            " [ 4  5  6  7]\n",
            " [ 8  9 10 11]\n",
            " [12 13 14 15]]\n",
            "[[ 0  1  2  3  8  9 10 11]\n",
            " [ 4  5  6  7 12 13 14 15]]\n"
          ],
          "name": "stdout"
        }
      ]
    },
    {
      "cell_type": "code",
      "metadata": {
        "id": "Sk4iZfhTvE3d",
        "colab": {
          "base_uri": "https://localhost:8080/"
        },
        "outputId": "e91b29d0-971a-4b4b-fe41-fb08c9ef538a"
      },
      "source": [
        "import numpy as np\n",
        "\n",
        "arr1 = np.array([x for x in range(0, 8)]).reshape(2, 4)\n",
        "arr2 = np.array([x for x in range(8, 16)]).reshape(2, 4)\n",
        "\n",
        "con = np.concatenate((arr1, arr2), axis=0)\n",
        "con1 = np.concatenate((arr1, arr2), axis=1)\n",
        "print('axis - 0:\\n', con)\n",
        "print('axis - 1 :\\n', con1)"
      ],
      "execution_count": 15,
      "outputs": [
        {
          "output_type": "stream",
          "text": [
            "axis - 0:\n",
            " [[ 0  1  2  3]\n",
            " [ 4  5  6  7]\n",
            " [ 8  9 10 11]\n",
            " [12 13 14 15]]\n",
            "axis - 1 :\n",
            " [[ 0  1  2  3  8  9 10 11]\n",
            " [ 4  5  6  7 12 13 14 15]]\n"
          ],
          "name": "stdout"
        }
      ]
    }
  ]
}