{
  "nbformat": 4,
  "nbformat_minor": 0,
  "metadata": {
    "colab": {
      "name": "TASK 21.ipynb",
      "provenance": [],
      "include_colab_link": true
    },
    "kernelspec": {
      "name": "python3",
      "display_name": "Python 3"
    },
    "language_info": {
      "name": "python"
    }
  },
  "cells": [
    {
      "cell_type": "markdown",
      "metadata": {
        "id": "view-in-github",
        "colab_type": "text"
      },
      "source": [
        "<a href=\"https://colab.research.google.com/github/Mariyathk/Learn.PY-01/blob/main/TASK_21.ipynb\" target=\"_parent\"><img src=\"https://colab.research.google.com/assets/colab-badge.svg\" alt=\"Open In Colab\"/></a>"
      ]
    },
    {
      "cell_type": "markdown",
      "metadata": {
        "id": "wK9sv7fHTnyo"
      },
      "source": [
        "1.  Using the dataset given below,\n",
        "  - Group the given dataset by A and find the sum of the groups.\n",
        "  - Find the 3 least elements from the column D\n",
        "  - Find the 3 largest elements from the Column D which belongs to the group\n",
        "  'bar'."
      ]
    },
    {
      "cell_type": "code",
      "metadata": {
        "id": "C_Kq4i_rVNyB",
        "outputId": "dd203c3d-022b-4f7f-b24f-fb2b6cd3d85b",
        "colab": {
          "base_uri": "https://localhost:8080/"
        }
      },
      "source": [
        "import pandas as pd\n",
        "import numpy as np\n",
        "df = pd.DataFrame({'A' : ['foo', 'bar', 'foo', 'bar',\n",
        "                          'foo', 'bar', 'foo', 'foo'],\n",
        "                   'B' : ['one', 'one', 'two', 'three',\n",
        "                          'two', 'two', 'one', 'three'],\n",
        "                   'C' : np.random.randn(8),\n",
        "                   'D' : np.random.randn(8)})\n",
        "print(df)\n",
        "#please type your code below this line.\n",
        "group = df.groupby('A')\n",
        "print('\\n Sum of groups\\n',group.sum())\n",
        "print('\\n 3 least elements from the column D\\n',df['D'].nsmallest(3) )\n",
        "print(\"\\n 3 largest elements from the Column D belongs to group 'bar'\\n\", group['D'].get_group('bar').nlargest(3))"
      ],
      "execution_count": 5,
      "outputs": [
        {
          "output_type": "stream",
          "name": "stdout",
          "text": [
            "     A      B         C         D\n",
            "0  foo    one  0.544807  0.781345\n",
            "1  bar    one  1.059736 -0.040922\n",
            "2  foo    two -0.375197  0.280356\n",
            "3  bar  three  0.390851  0.244805\n",
            "4  foo    two  1.073578  0.093173\n",
            "5  bar    two  0.331834 -0.643560\n",
            "6  foo    one -0.748867  0.115500\n",
            "7  foo  three  0.541349  0.002883\n",
            "\n",
            " Sum of groups\n",
            "             C         D\n",
            "A                      \n",
            "bar  1.782421 -0.439677\n",
            "foo  1.035670  1.273257\n",
            "\n",
            " 3 least elements from the column D\n",
            " 5   -0.643560\n",
            "1   -0.040922\n",
            "7    0.002883\n",
            "Name: D, dtype: float64\n",
            "\n",
            " 3 largest elements from the Column D belongs to group 'bar'\n",
            " 3    0.244805\n",
            "1   -0.040922\n",
            "5   -0.643560\n",
            "Name: D, dtype: float64\n"
          ]
        }
      ]
    },
    {
      "cell_type": "markdown",
      "metadata": {
        "id": "68XLHGsrdHXb"
      },
      "source": [
        "2. Using the dataset given below,\n",
        "  - convert the dataset into a csv file.\n",
        "  - read the csv file just saved\n",
        "  - covert the dataset into a excel file.\n",
        "  - read the excel file just saved."
      ]
    },
    {
      "cell_type": "code",
      "metadata": {
        "id": "J4BOx3UZdVLV",
        "outputId": "b98e3f8a-1876-4d79-8840-ccb554eeca55",
        "colab": {
          "base_uri": "https://localhost:8080/"
        }
      },
      "source": [
        "import pandas as pd\n",
        "import numpy as np\n",
        "df = pd.DataFrame({'A' : ['foo', 'bar', 'foo', 'bar',\n",
        "                          'foo', 'bar', 'foo', 'foo'],\n",
        "                   'B' : ['one', 'one', 'two', 'three',\n",
        "                          'two', 'two', 'one', 'three'],\n",
        "                   'C' : np.random.randn(8),\n",
        "                   'D' : np.random.randn(8)})\n",
        "#please type your code below this line.\n",
        "df.to_csv('csvFile.csv')\n",
        "print(\"\\n CSV File\\n\", pd.read_csv, ('csvFile.csv'))\n",
        "df.to_excel('excelFile.xlsx')\n",
        "print(\"\\n In Excel File \\n\", pd.read_excel('excelFile.xlsx'))"
      ],
      "execution_count": 7,
      "outputs": [
        {
          "output_type": "stream",
          "name": "stdout",
          "text": [
            "\n",
            " CSV File\n",
            " <function read_csv at 0x7fe1c76725f0> csvFile.csv\n",
            "\n",
            " In Excel File \n",
            "    Unnamed: 0    A      B         C         D\n",
            "0           0  foo    one -1.251573 -0.288438\n",
            "1           1  bar    one  0.545633  0.711347\n",
            "2           2  foo    two  0.089269 -0.876096\n",
            "3           3  bar  three -0.636257  1.765274\n",
            "4           4  foo    two  0.703396 -0.631372\n",
            "5           5  bar    two  1.339994  0.152698\n",
            "6           6  foo    one  0.281517 -1.668368\n",
            "7           7  foo  three  0.000787 -0.449861\n"
          ]
        }
      ]
    },
    {
      "cell_type": "code",
      "metadata": {
        "id": "y8rZMYwzeYDf"
      },
      "source": [
        ""
      ],
      "execution_count": null,
      "outputs": []
    }
  ]
}