{
  "nbformat": 4,
  "nbformat_minor": 0,
  "metadata": {
    "colab": {
      "name": "TASK 16.ipynb",
      "provenance": [],
      "include_colab_link": true
    },
    "kernelspec": {
      "name": "python3",
      "display_name": "Python 3"
    },
    "language_info": {
      "name": "python"
    }
  },
  "cells": [
    {
      "cell_type": "markdown",
      "metadata": {
        "id": "view-in-github",
        "colab_type": "text"
      },
      "source": [
        "<a href=\"https://colab.research.google.com/github/Mariyathk/Learn.PY-01/blob/main/TASK_16.ipynb\" target=\"_parent\"><img src=\"https://colab.research.google.com/assets/colab-badge.svg\" alt=\"Open In Colab\"/></a>"
      ]
    },
    {
      "cell_type": "markdown",
      "metadata": {
        "id": "acyipYglJ670"
      },
      "source": [
        "1. Given index=[\"India\",\"Pakistan\",\"Bangladesh\",\"Srilanka\",\"china\",\"Nepal\"] and data=[1,3,5,np.nan,6,8] . Create a table with the \"index\" as indices and data as values.\n",
        "\n",
        "      Expected output\n",
        "\n",
        "        India         1.0\n",
        "        Pakistan      3.0\n",
        "        Bangladesh    5.0\n",
        "        Srilanka      NaN\n",
        "        China         6.0\n",
        "        Nepal         8.0\n",
        "        Name: myseries, dtype: float64"
      ]
    },
    {
      "cell_type": "code",
      "metadata": {
        "id": "lk5t2eNkKLwL",
        "outputId": "3d645c13-725c-4f4b-91f2-a7833e34a297",
        "colab": {
          "base_uri": "https://localhost:8080/"
        }
      },
      "source": [
        "import numpy as np\n",
        "import pandas as pd\n",
        "index = [\"India\",\"Pakistan\",\"Bangladesh\",\"Srilanka\",\"China\",\"Nepal\"]\n",
        "data = [1,3,5,np.nan,6,8]\n",
        "\n",
        "s = pd.Series(data, index, name=\"myseries\")\n",
        "print(s)"
      ],
      "execution_count": 6,
      "outputs": [
        {
          "output_type": "stream",
          "text": [
            "India         1.0\n",
            "Pakistan      3.0\n",
            "Bangladesh    5.0\n",
            "Srilanka      NaN\n",
            "China         6.0\n",
            "Nepal         8.0\n",
            "Name: myseries, dtype: float64\n"
          ],
          "name": "stdout"
        }
      ]
    },
    {
      "cell_type": "markdown",
      "metadata": {
        "id": "inxiNv1rLveT"
      },
      "source": [
        "2. Create a data 'dates' starting from 2021-01-01 with range 6. and create a random 6x4 array and a list=('ABCD').now create a dataframe with 'dates' as index and list as the column and data as the datas of this table.\n",
        "\n",
        "\n",
        "  Expected output\n",
        "\n",
        "                        A\t       B\t      C\t      D\n",
        "    2021-01-01\t-0.429358\t0.779826\t0.389625\t0.248792\n",
        "    2021-01-02\t-1.044721\t0.272807\t-0.370437\t1.177273\n",
        "    2021-01-03\t-0.961394\t-0.525376\t0.120843\t0.470060\n",
        "    2021-01-04\t1.842266\t-0.551049\t0.588390\t-0.326937\n",
        "    2021-01-05\t0.986198\t0.391301\t-0.084837\t-0.855573\n",
        "    2021-01-06\t-1.531207\t0.905463\t-0.099024\t0.589219\n",
        "\n"
      ]
    },
    {
      "cell_type": "code",
      "metadata": {
        "id": "c5UthVRvfiL4",
        "outputId": "a861c117-dd82-4dfa-caa2-33a13be3e291",
        "colab": {
          "base_uri": "https://localhost:8080/"
        }
      },
      "source": [
        "import numpy as np\n",
        "import pandas as pd\n",
        "dates = pd.date_range(\"2021-01-01\",periods = 6)\n",
        "dataframe = pd.DataFrame(np.random.randn(6, 4), index=dates, columns=[\"A\",\"B\",\"C\",\"D\"])\n",
        "print(dataframe)"
      ],
      "execution_count": 43,
      "outputs": [
        {
          "output_type": "stream",
          "text": [
            "                   A         B         C         D\n",
            "2021-01-01 -2.321699  1.325466 -0.484265  1.104865\n",
            "2021-01-02  0.088662  2.110647 -0.613051  0.031288\n",
            "2021-01-03 -0.468550 -0.609335 -0.250956  0.530715\n",
            "2021-01-04 -0.920300 -0.648894 -0.909048 -1.233203\n",
            "2021-01-05 -0.491949 -1.691420 -0.414533  0.809257\n",
            "2021-01-06  0.443948 -0.826994  0.288027  1.177860\n"
          ],
          "name": "stdout"
        }
      ]
    }
  ]
}