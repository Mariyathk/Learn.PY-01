{
  "nbformat": 4,
  "nbformat_minor": 0,
  "metadata": {
    "colab": {
      "name": "TASK 6.ipynb",
      "provenance": [],
      "include_colab_link": true
    },
    "kernelspec": {
      "name": "python3",
      "display_name": "Python 3"
    },
    "language_info": {
      "name": "python"
    }
  },
  "cells": [
    {
      "cell_type": "markdown",
      "metadata": {
        "id": "view-in-github",
        "colab_type": "text"
      },
      "source": [
        "<a href=\"https://colab.research.google.com/github/Mariyathk/Learn.PY-01/blob/main/TASK_6.ipynb\" target=\"_parent\"><img src=\"https://colab.research.google.com/assets/colab-badge.svg\" alt=\"Open In Colab\"/></a>"
      ]
    },
    {
      "cell_type": "markdown",
      "metadata": {
        "id": "2aT_QhgIny6V"
      },
      "source": [
        "1. Write a Python program to find those numbers which are divisible by 7 and multiple of 11, between 1000 and 2000 (both included)."
      ]
    },
    {
      "cell_type": "code",
      "metadata": {
        "id": "KlFG2BFZoEEU",
        "outputId": "09129659-640d-47ca-e5ee-9db1e701622a",
        "colab": {
          "base_uri": "https://localhost:8080/"
        }
      },
      "source": [
        "lwr = int(input(\"Enter the lower range:\"))\n",
        "upr = int(input(\"Enter the upper range:\"))\n",
        "for i in range (lwr,upr+1):\n",
        "  if (i%7==0 and i%11==0):\n",
        "    print(i)"
      ],
      "execution_count": 76,
      "outputs": [
        {
          "output_type": "stream",
          "text": [
            "Enter the lower range:1000\n",
            "Enter the upper range:2000\n",
            "1001\n",
            "1078\n",
            "1155\n",
            "1232\n",
            "1309\n",
            "1386\n",
            "1463\n",
            "1540\n",
            "1617\n",
            "1694\n",
            "1771\n",
            "1848\n",
            "1925\n"
          ],
          "name": "stdout"
        }
      ]
    },
    {
      "cell_type": "markdown",
      "metadata": {
        "id": "ZesHXUMboLu7"
      },
      "source": [
        "2. Write a program to print this pattern\n",
        "\n",
        "           #\n",
        "          ## \n",
        "         ###"
      ]
    },
    {
      "cell_type": "code",
      "metadata": {
        "id": "B3IC7kcAom-R",
        "outputId": "dc913091-0818-4121-c35b-0c6bd9e1ff73",
        "colab": {
          "base_uri": "https://localhost:8080/"
        }
      },
      "source": [
        "n = 3\n",
        "  \n",
        "for i in range(0,n+1):\n",
        "  for j in range(0,n+1-i):\n",
        "    print(\" \",end='')\n",
        "  for k in range(1,i+1):\n",
        "    print(\"#\",end='')\n",
        "  print(\"\")"
      ],
      "execution_count": 75,
      "outputs": [
        {
          "output_type": "stream",
          "text": [
            "    \n",
            "   #\n",
            "  ##\n",
            " ###\n"
          ],
          "name": "stdout"
        }
      ]
    },
    {
      "cell_type": "code",
      "metadata": {
        "id": "F3PkJvYIL8jE",
        "outputId": "f9f3f8a0-3e19-48cd-e321-296b94be4990",
        "colab": {
          "base_uri": "https://localhost:8080/"
        }
      },
      "source": [
        "def pypart2(n):\n",
        "  k = 2*n-2\n",
        "  for i in range(0, n):\n",
        "    for j in range(0, k):\n",
        "      print(end=\" \")\n",
        "    k = k-2\n",
        "    for m in range(0, i+1):\n",
        "      print(\" #\",end=\"\")\n",
        "    print(\"\\r\")\n",
        "    \n",
        "n= 3\n",
        "pypart2(n) "
      ],
      "execution_count": 59,
      "outputs": [
        {
          "output_type": "stream",
          "text": [
            "     #\r\n",
            "   # #\r\n",
            " # # #\r\n"
          ],
          "name": "stdout"
        }
      ]
    },
    {
      "cell_type": "markdown",
      "metadata": {
        "id": "6ZepaaI-ow6W"
      },
      "source": [
        "3. list=[apple, orange, apple, banana]\n",
        ". Replace all the apple in the list with grapes using for loop"
      ]
    },
    {
      "cell_type": "code",
      "metadata": {
        "id": "oJSlAkJoL5vi",
        "outputId": "4ffb81b3-cd5c-4f58-b869-14c221132462",
        "colab": {
          "base_uri": "https://localhost:8080/"
        }
      },
      "source": [
        "lists = [\"apple\", \"orange\", \"apple\", \"banana\"]\n",
        "for i,item in enumerate(lists):\n",
        " if item == \"apple\":\n",
        "  lists[i]=\"grapes\"\n",
        "print(lists)"
      ],
      "execution_count": 95,
      "outputs": [
        {
          "output_type": "stream",
          "text": [
            "['grapes', 'orange', 'grapes', 'banana']\n"
          ],
          "name": "stdout"
        }
      ]
    }
  ]
}