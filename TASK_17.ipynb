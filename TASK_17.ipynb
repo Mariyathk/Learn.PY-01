{
  "nbformat": 4,
  "nbformat_minor": 0,
  "metadata": {
    "colab": {
      "name": "TASK 17.ipynb",
      "provenance": [],
      "include_colab_link": true
    },
    "kernelspec": {
      "name": "python3",
      "display_name": "Python 3"
    },
    "language_info": {
      "name": "python"
    }
  },
  "cells": [
    {
      "cell_type": "markdown",
      "metadata": {
        "id": "view-in-github",
        "colab_type": "text"
      },
      "source": [
        "<a href=\"https://colab.research.google.com/github/Mariyathk/Learn.PY-01/blob/main/TASK_17.ipynb\" target=\"_parent\"><img src=\"https://colab.research.google.com/assets/colab-badge.svg\" alt=\"Open In Colab\"/></a>"
      ]
    },
    {
      "cell_type": "markdown",
      "metadata": {
        "id": "0SLapvpoaeYY"
      },
      "source": [
        "1. Create a DataFrame by passing a random numpy array,with a datetie index and labelled columns.and display its,\n",
        "     - Head\n",
        "     - Tail\n",
        "     - Index \n",
        "     - Columns\n",
        "     - Values\n",
        "     - statistics\n"
      ]
    },
    {
      "cell_type": "code",
      "metadata": {
        "id": "zJDkjyVxa5yU",
        "outputId": "ce3a2c8b-9a2c-4de5-86d8-ddf0750e8f61",
        "colab": {
          "base_uri": "https://localhost:8080/"
        }
      },
      "source": [
        "#please type your answer below this line.\n",
        "import pandas as pd\n",
        "import numpy as np\n",
        "dates = pd.date_range('today', periods=6)\n",
        "num_arr = np.random.randn(6,6)\n",
        "df = pd.DataFrame(num_arr, index=dates, columns=['A','B','C','D','E','F'])\n",
        "print(\"Head\\n\",df.head())\n",
        "print('\\nTail\\n',df.tail())\n",
        "print('\\nIndex\\n',df.index)\n",
        "print('\\nColumns\\n',df.columns)\n",
        "print('\\nValues\\n',df.values)\n",
        "print('\\nStatistics\\n',df.describe)"
      ],
      "execution_count": 27,
      "outputs": [
        {
          "output_type": "stream",
          "name": "stdout",
          "text": [
            "Head\n",
            "                                    A         B  ...         E         F\n",
            "2021-09-03 16:14:37.713060 -1.892565  1.524449  ... -1.352800  0.640516\n",
            "2021-09-04 16:14:37.713060 -0.029508 -0.077453  ... -0.629272  1.548458\n",
            "2021-09-05 16:14:37.713060 -1.104377  0.036352  ...  0.456907  1.061544\n",
            "2021-09-06 16:14:37.713060  1.077082  1.449324  ...  0.942669 -0.856975\n",
            "2021-09-07 16:14:37.713060 -0.340701  0.146048  ... -0.372412  0.631086\n",
            "\n",
            "[5 rows x 6 columns]\n",
            "\n",
            "Tail\n",
            "                                    A         B  ...         E         F\n",
            "2021-09-04 16:14:37.713060 -0.029508 -0.077453  ... -0.629272  1.548458\n",
            "2021-09-05 16:14:37.713060 -1.104377  0.036352  ...  0.456907  1.061544\n",
            "2021-09-06 16:14:37.713060  1.077082  1.449324  ...  0.942669 -0.856975\n",
            "2021-09-07 16:14:37.713060 -0.340701  0.146048  ... -0.372412  0.631086\n",
            "2021-09-08 16:14:37.713060 -0.634486 -0.165279  ...  0.745678  0.385819\n",
            "\n",
            "[5 rows x 6 columns]\n",
            "\n",
            "Index\n",
            " DatetimeIndex(['2021-09-03 16:14:37.713060', '2021-09-04 16:14:37.713060',\n",
            "               '2021-09-05 16:14:37.713060', '2021-09-06 16:14:37.713060',\n",
            "               '2021-09-07 16:14:37.713060', '2021-09-08 16:14:37.713060'],\n",
            "              dtype='datetime64[ns]', freq='D')\n",
            "\n",
            "Columns\n",
            " Index(['A', 'B', 'C', 'D', 'E', 'F'], dtype='object')\n",
            "\n",
            "Values\n",
            " [[-1.89256475  1.52444885 -1.86673422  1.44272703 -1.35279971  0.64051552]\n",
            " [-0.0295077  -0.07745309  0.19061733 -0.03035396 -0.62927204  1.54845794]\n",
            " [-1.10437682  0.0363517  -0.69139039  1.04743983  0.45690699  1.06154435]\n",
            " [ 1.07708187  1.4493241  -1.18569486 -0.17013928  0.94266904 -0.8569748 ]\n",
            " [-0.34070128  0.14604841  0.80082091  1.63394585 -0.37241239  0.63108573]\n",
            " [-0.63448605 -0.1652786  -0.86220788  0.64063736  0.74567817  0.38581927]]\n",
            "\n",
            "Statistics\n",
            " <bound method NDFrame.describe of                                    A         B  ...         E         F\n",
            "2021-09-03 16:14:37.713060 -1.892565  1.524449  ... -1.352800  0.640516\n",
            "2021-09-04 16:14:37.713060 -0.029508 -0.077453  ... -0.629272  1.548458\n",
            "2021-09-05 16:14:37.713060 -1.104377  0.036352  ...  0.456907  1.061544\n",
            "2021-09-06 16:14:37.713060  1.077082  1.449324  ...  0.942669 -0.856975\n",
            "2021-09-07 16:14:37.713060 -0.340701  0.146048  ... -0.372412  0.631086\n",
            "2021-09-08 16:14:37.713060 -0.634486 -0.165279  ...  0.745678  0.385819\n",
            "\n",
            "[6 rows x 6 columns]>\n"
          ]
        }
      ]
    },
    {
      "cell_type": "code",
      "metadata": {
        "id": "PelJKgXoZTLp",
        "outputId": "4ad9c0ab-4ebc-42d1-f4b8-c26a377f099e",
        "colab": {
          "base_uri": "https://localhost:8080/"
        }
      },
      "source": [
        "df = pd.DataFrame(num_arr, index=dates, columns=['A','B','C','D','E','F'])\n",
        "print(\"Head\\n\",df)\n",
        "print('\\nTail',df)"
      ],
      "execution_count": 28,
      "outputs": [
        {
          "output_type": "stream",
          "name": "stdout",
          "text": [
            "Head\n",
            "                                    A         B  ...         E         F\n",
            "2021-09-03 16:14:37.713060 -1.892565  1.524449  ... -1.352800  0.640516\n",
            "2021-09-04 16:14:37.713060 -0.029508 -0.077453  ... -0.629272  1.548458\n",
            "2021-09-05 16:14:37.713060 -1.104377  0.036352  ...  0.456907  1.061544\n",
            "2021-09-06 16:14:37.713060  1.077082  1.449324  ...  0.942669 -0.856975\n",
            "2021-09-07 16:14:37.713060 -0.340701  0.146048  ... -0.372412  0.631086\n",
            "2021-09-08 16:14:37.713060 -0.634486 -0.165279  ...  0.745678  0.385819\n",
            "\n",
            "[6 rows x 6 columns]\n",
            "\n",
            "Tail                                    A         B  ...         E         F\n",
            "2021-09-03 16:14:37.713060 -1.892565  1.524449  ... -1.352800  0.640516\n",
            "2021-09-04 16:14:37.713060 -0.029508 -0.077453  ... -0.629272  1.548458\n",
            "2021-09-05 16:14:37.713060 -1.104377  0.036352  ...  0.456907  1.061544\n",
            "2021-09-06 16:14:37.713060  1.077082  1.449324  ...  0.942669 -0.856975\n",
            "2021-09-07 16:14:37.713060 -0.340701  0.146048  ... -0.372412  0.631086\n",
            "2021-09-08 16:14:37.713060 -0.634486 -0.165279  ...  0.745678  0.385819\n",
            "\n",
            "[6 rows x 6 columns]\n"
          ]
        }
      ]
    },
    {
      "cell_type": "markdown",
      "metadata": {
        "id": "xnkA2mKDdyoO"
      },
      "source": [
        "2. Use the above table and,\n",
        "      - find transpose of your data.\n",
        "      - sort the index in the descending order of the date."
      ]
    },
    {
      "cell_type": "code",
      "metadata": {
        "id": "uqcQSEOufJ5P",
        "outputId": "f34f993a-26d7-4021-d52d-9c18f1736bf6",
        "colab": {
          "base_uri": "https://localhost:8080/",
          "height": 255
        }
      },
      "source": [
        "#please provide your answer below this line.\n",
        "df.T\n"
      ],
      "execution_count": 29,
      "outputs": [
        {
          "output_type": "execute_result",
          "data": {
            "text/html": [
              "<div>\n",
              "<style scoped>\n",
              "    .dataframe tbody tr th:only-of-type {\n",
              "        vertical-align: middle;\n",
              "    }\n",
              "\n",
              "    .dataframe tbody tr th {\n",
              "        vertical-align: top;\n",
              "    }\n",
              "\n",
              "    .dataframe thead th {\n",
              "        text-align: right;\n",
              "    }\n",
              "</style>\n",
              "<table border=\"1\" class=\"dataframe\">\n",
              "  <thead>\n",
              "    <tr style=\"text-align: right;\">\n",
              "      <th></th>\n",
              "      <th>2021-09-03 16:14:37.713060</th>\n",
              "      <th>2021-09-04 16:14:37.713060</th>\n",
              "      <th>2021-09-05 16:14:37.713060</th>\n",
              "      <th>2021-09-06 16:14:37.713060</th>\n",
              "      <th>2021-09-07 16:14:37.713060</th>\n",
              "      <th>2021-09-08 16:14:37.713060</th>\n",
              "    </tr>\n",
              "  </thead>\n",
              "  <tbody>\n",
              "    <tr>\n",
              "      <th>A</th>\n",
              "      <td>-1.892565</td>\n",
              "      <td>-0.029508</td>\n",
              "      <td>-1.104377</td>\n",
              "      <td>1.077082</td>\n",
              "      <td>-0.340701</td>\n",
              "      <td>-0.634486</td>\n",
              "    </tr>\n",
              "    <tr>\n",
              "      <th>B</th>\n",
              "      <td>1.524449</td>\n",
              "      <td>-0.077453</td>\n",
              "      <td>0.036352</td>\n",
              "      <td>1.449324</td>\n",
              "      <td>0.146048</td>\n",
              "      <td>-0.165279</td>\n",
              "    </tr>\n",
              "    <tr>\n",
              "      <th>C</th>\n",
              "      <td>-1.866734</td>\n",
              "      <td>0.190617</td>\n",
              "      <td>-0.691390</td>\n",
              "      <td>-1.185695</td>\n",
              "      <td>0.800821</td>\n",
              "      <td>-0.862208</td>\n",
              "    </tr>\n",
              "    <tr>\n",
              "      <th>D</th>\n",
              "      <td>1.442727</td>\n",
              "      <td>-0.030354</td>\n",
              "      <td>1.047440</td>\n",
              "      <td>-0.170139</td>\n",
              "      <td>1.633946</td>\n",
              "      <td>0.640637</td>\n",
              "    </tr>\n",
              "    <tr>\n",
              "      <th>E</th>\n",
              "      <td>-1.352800</td>\n",
              "      <td>-0.629272</td>\n",
              "      <td>0.456907</td>\n",
              "      <td>0.942669</td>\n",
              "      <td>-0.372412</td>\n",
              "      <td>0.745678</td>\n",
              "    </tr>\n",
              "    <tr>\n",
              "      <th>F</th>\n",
              "      <td>0.640516</td>\n",
              "      <td>1.548458</td>\n",
              "      <td>1.061544</td>\n",
              "      <td>-0.856975</td>\n",
              "      <td>0.631086</td>\n",
              "      <td>0.385819</td>\n",
              "    </tr>\n",
              "  </tbody>\n",
              "</table>\n",
              "</div>"
            ],
            "text/plain": [
              "   2021-09-03 16:14:37.713060  ...  2021-09-08 16:14:37.713060\n",
              "A                   -1.892565  ...                   -0.634486\n",
              "B                    1.524449  ...                   -0.165279\n",
              "C                   -1.866734  ...                   -0.862208\n",
              "D                    1.442727  ...                    0.640637\n",
              "E                   -1.352800  ...                    0.745678\n",
              "F                    0.640516  ...                    0.385819\n",
              "\n",
              "[6 rows x 6 columns]"
            ]
          },
          "metadata": {},
          "execution_count": 29
        }
      ]
    },
    {
      "cell_type": "code",
      "metadata": {
        "id": "ons_4oz5TuY2",
        "outputId": "519cf3b3-ca23-452f-fc49-de18285380fd",
        "colab": {
          "base_uri": "https://localhost:8080/",
          "height": 237
        }
      },
      "source": [
        "df.sort_index(ascending = False)"
      ],
      "execution_count": 30,
      "outputs": [
        {
          "output_type": "execute_result",
          "data": {
            "text/html": [
              "<div>\n",
              "<style scoped>\n",
              "    .dataframe tbody tr th:only-of-type {\n",
              "        vertical-align: middle;\n",
              "    }\n",
              "\n",
              "    .dataframe tbody tr th {\n",
              "        vertical-align: top;\n",
              "    }\n",
              "\n",
              "    .dataframe thead th {\n",
              "        text-align: right;\n",
              "    }\n",
              "</style>\n",
              "<table border=\"1\" class=\"dataframe\">\n",
              "  <thead>\n",
              "    <tr style=\"text-align: right;\">\n",
              "      <th></th>\n",
              "      <th>A</th>\n",
              "      <th>B</th>\n",
              "      <th>C</th>\n",
              "      <th>D</th>\n",
              "      <th>E</th>\n",
              "      <th>F</th>\n",
              "    </tr>\n",
              "  </thead>\n",
              "  <tbody>\n",
              "    <tr>\n",
              "      <th>2021-09-08 16:14:37.713060</th>\n",
              "      <td>-0.634486</td>\n",
              "      <td>-0.165279</td>\n",
              "      <td>-0.862208</td>\n",
              "      <td>0.640637</td>\n",
              "      <td>0.745678</td>\n",
              "      <td>0.385819</td>\n",
              "    </tr>\n",
              "    <tr>\n",
              "      <th>2021-09-07 16:14:37.713060</th>\n",
              "      <td>-0.340701</td>\n",
              "      <td>0.146048</td>\n",
              "      <td>0.800821</td>\n",
              "      <td>1.633946</td>\n",
              "      <td>-0.372412</td>\n",
              "      <td>0.631086</td>\n",
              "    </tr>\n",
              "    <tr>\n",
              "      <th>2021-09-06 16:14:37.713060</th>\n",
              "      <td>1.077082</td>\n",
              "      <td>1.449324</td>\n",
              "      <td>-1.185695</td>\n",
              "      <td>-0.170139</td>\n",
              "      <td>0.942669</td>\n",
              "      <td>-0.856975</td>\n",
              "    </tr>\n",
              "    <tr>\n",
              "      <th>2021-09-05 16:14:37.713060</th>\n",
              "      <td>-1.104377</td>\n",
              "      <td>0.036352</td>\n",
              "      <td>-0.691390</td>\n",
              "      <td>1.047440</td>\n",
              "      <td>0.456907</td>\n",
              "      <td>1.061544</td>\n",
              "    </tr>\n",
              "    <tr>\n",
              "      <th>2021-09-04 16:14:37.713060</th>\n",
              "      <td>-0.029508</td>\n",
              "      <td>-0.077453</td>\n",
              "      <td>0.190617</td>\n",
              "      <td>-0.030354</td>\n",
              "      <td>-0.629272</td>\n",
              "      <td>1.548458</td>\n",
              "    </tr>\n",
              "    <tr>\n",
              "      <th>2021-09-03 16:14:37.713060</th>\n",
              "      <td>-1.892565</td>\n",
              "      <td>1.524449</td>\n",
              "      <td>-1.866734</td>\n",
              "      <td>1.442727</td>\n",
              "      <td>-1.352800</td>\n",
              "      <td>0.640516</td>\n",
              "    </tr>\n",
              "  </tbody>\n",
              "</table>\n",
              "</div>"
            ],
            "text/plain": [
              "                                   A         B  ...         E         F\n",
              "2021-09-08 16:14:37.713060 -0.634486 -0.165279  ...  0.745678  0.385819\n",
              "2021-09-07 16:14:37.713060 -0.340701  0.146048  ... -0.372412  0.631086\n",
              "2021-09-06 16:14:37.713060  1.077082  1.449324  ...  0.942669 -0.856975\n",
              "2021-09-05 16:14:37.713060 -1.104377  0.036352  ...  0.456907  1.061544\n",
              "2021-09-04 16:14:37.713060 -0.029508 -0.077453  ... -0.629272  1.548458\n",
              "2021-09-03 16:14:37.713060 -1.892565  1.524449  ... -1.352800  0.640516\n",
              "\n",
              "[6 rows x 6 columns]"
            ]
          },
          "metadata": {},
          "execution_count": 30
        }
      ]
    },
    {
      "cell_type": "markdown",
      "metadata": {
        "id": "ss7s_8iDbAcL"
      },
      "source": [
        ""
      ]
    }
  ]
}