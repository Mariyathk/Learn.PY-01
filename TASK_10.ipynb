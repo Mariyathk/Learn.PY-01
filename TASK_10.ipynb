{
  "nbformat": 4,
  "nbformat_minor": 0,
  "metadata": {
    "colab": {
      "name": "TASK 10.ipynb",
      "provenance": [],
      "include_colab_link": true
    },
    "kernelspec": {
      "name": "python3",
      "display_name": "Python 3"
    },
    "language_info": {
      "name": "python"
    }
  },
  "cells": [
    {
      "cell_type": "markdown",
      "metadata": {
        "id": "view-in-github",
        "colab_type": "text"
      },
      "source": [
        "<a href=\"https://colab.research.google.com/github/Mariyathk/Learn.PY-01/blob/main/TASK_10.ipynb\" target=\"_parent\"><img src=\"https://colab.research.google.com/assets/colab-badge.svg\" alt=\"Open In Colab\"/></a>"
      ]
    },
    {
      "cell_type": "markdown",
      "metadata": {
        "id": "VHKxwUewxOi2"
      },
      "source": [
        "1. Generate two  3 x 3 matrix and find it's dot product and take the transpose of the answer."
      ]
    },
    {
      "cell_type": "code",
      "metadata": {
        "id": "RdyKd1CAxZtR",
        "outputId": "41280f32-5b40-4856-e8b8-0d942663b9d0",
        "colab": {
          "base_uri": "https://localhost:8080/"
        }
      },
      "source": [
        "import numpy as np\n",
        "n1 = np.array([[2,4,6],[7,2,9],[6,9,0]])\n",
        "n2 = np.array([[1,2,3],[2,1,4],[6,4,7]])\n",
        "\n",
        "print(n1)\n",
        "print(n2)\n",
        "\n",
        "n3 = n1.dot(n2)\n",
        "print(n3)\n",
        "\n",
        "n4 = np.transpose(n3)\n",
        "print(n4)"
      ],
      "execution_count": 10,
      "outputs": [
        {
          "output_type": "stream",
          "text": [
            "[[2 4 6]\n",
            " [7 2 9]\n",
            " [6 9 0]]\n",
            "[[1 2 3]\n",
            " [2 1 4]\n",
            " [6 4 7]]\n",
            "[[46 32 64]\n",
            " [65 52 92]\n",
            " [24 21 54]]\n",
            "[[46 65 24]\n",
            " [32 52 21]\n",
            " [64 92 54]]\n"
          ],
          "name": "stdout"
        }
      ]
    },
    {
      "cell_type": "markdown",
      "metadata": {
        "id": "9c9ZwiBxxf4t"
      },
      "source": [
        "2. Create a 3x3 matrix with elements [55,25,15], [30,44,2], [11,45,77] . Now find the determinant of the given matrix."
      ]
    },
    {
      "cell_type": "code",
      "metadata": {
        "id": "Anmr3C9KyNyy",
        "outputId": "d3256f9e-8250-4895-e46a-78af931de5d7",
        "colab": {
          "base_uri": "https://localhost:8080/"
        }
      },
      "source": [
        "import numpy\n",
        "M_1 = numpy.array([[55,25,15],[30,44,2],[11,45,77]])\n",
        "print(M_1)\n",
        "\n",
        "M_2 = numpy.linalg.det(M_1)\n",
        "print(M_2)"
      ],
      "execution_count": 16,
      "outputs": [
        {
          "output_type": "stream",
          "text": [
            "[[55 25 15]\n",
            " [30 44  2]\n",
            " [11 45 77]]\n",
            "137180.0000000001\n"
          ],
          "name": "stdout"
        }
      ]
    }
  ]
}