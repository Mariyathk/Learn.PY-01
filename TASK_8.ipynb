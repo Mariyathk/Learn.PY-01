{
  "nbformat": 4,
  "nbformat_minor": 0,
  "metadata": {
    "colab": {
      "name": "TASK 8.ipynb",
      "provenance": [],
      "include_colab_link": true
    },
    "kernelspec": {
      "name": "python3",
      "display_name": "Python 3"
    },
    "language_info": {
      "name": "python"
    }
  },
  "cells": [
    {
      "cell_type": "markdown",
      "metadata": {
        "id": "view-in-github",
        "colab_type": "text"
      },
      "source": [
        "<a href=\"https://colab.research.google.com/github/Mariyathk/Learn.PY-01/blob/main/TASK_8.ipynb\" target=\"_parent\"><img src=\"https://colab.research.google.com/assets/colab-badge.svg\" alt=\"Open In Colab\"/></a>"
      ]
    },
    {
      "cell_type": "markdown",
      "metadata": {
        "id": "slsGswYbJSo7"
      },
      "source": [
        "1. Generate a 3 x 3 matrix using random module."
      ]
    },
    {
      "cell_type": "code",
      "metadata": {
        "id": "GGRQSYyNJW9t",
        "outputId": "44434ea9-68c1-4cb8-b259-e4bbb9834105",
        "colab": {
          "base_uri": "https://localhost:8080/"
        }
      },
      "source": [
        "import numpy as np\n",
        "a = np.array([[3,\"fun\",6],[9,1,4],[4,6,8]])\n",
        "print(a)"
      ],
      "execution_count": 2,
      "outputs": [
        {
          "output_type": "stream",
          "text": [
            "[['3' 'fun' '6']\n",
            " ['9' '1' '4']\n",
            " ['4' '6' '8']]\n"
          ],
          "name": "stdout"
        }
      ]
    },
    {
      "cell_type": "markdown",
      "metadata": {
        "id": "4OB9KFX6JfYA"
      },
      "source": [
        "2. Generate two 4 x 4 matrix using numpy and \n",
        "\n",
        " a) Reshape it to 2 x 8matrix and vertically stack it.\n",
        "\n",
        " b) Reshape it to 2 x 8 matrix and horizontally stack it."
      ]
    },
    {
      "cell_type": "code",
      "metadata": {
        "id": "VoIqYeNWJ4H_",
        "outputId": "7ffd988e-e91a-4da8-986b-34dbca407172",
        "colab": {
          "base_uri": "https://localhost:8080/"
        }
      },
      "source": [
        "import numpy as np\n",
        "mt = np.array([[1,2,3,4],[5,6,7,8],[9,8,7,6],[8,6,9,0]])\n",
        "print(mt)\n",
        "\n",
        "#Reshaping 4X4 array into 2X8 array vertically\n",
        "mt_1 = mt.reshape(8,2)\n",
        "print(\"Reshaped array, a: \\n \",mt_1)\n",
        "\n",
        "\n",
        "#Reshaping 4X4 array into 4X4 array horizontally\n",
        "mt_2 = mt.reshape(2,8)\n",
        "print(\"Reshape array, b : \\n\",mt_2)"
      ],
      "execution_count": 10,
      "outputs": [
        {
          "output_type": "stream",
          "text": [
            "[[1 2 3 4]\n",
            " [5 6 7 8]\n",
            " [9 8 7 6]\n",
            " [8 6 9 0]]\n",
            "Reshaped array, a: \n",
            "  [[1 2]\n",
            " [3 4]\n",
            " [5 6]\n",
            " [7 8]\n",
            " [9 8]\n",
            " [7 6]\n",
            " [8 6]\n",
            " [9 0]]\n",
            "Reshape array, b : \n",
            " [[1 2 3 4 5 6 7 8]\n",
            " [9 8 7 6 8 6 9 0]]\n"
          ],
          "name": "stdout"
        }
      ]
    }
  ]
}