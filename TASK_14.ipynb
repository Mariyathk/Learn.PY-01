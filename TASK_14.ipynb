{
  "nbformat": 4,
  "nbformat_minor": 0,
  "metadata": {
    "colab": {
      "name": "TASK 14.ipynb",
      "provenance": [],
      "include_colab_link": true
    },
    "kernelspec": {
      "name": "python3",
      "display_name": "Python 3"
    },
    "language_info": {
      "name": "python"
    }
  },
  "cells": [
    {
      "cell_type": "markdown",
      "metadata": {
        "id": "view-in-github",
        "colab_type": "text"
      },
      "source": [
        "<a href=\"https://colab.research.google.com/github/Mariyathk/Learn.PY-01/blob/main/TASK_14.ipynb\" target=\"_parent\"><img src=\"https://colab.research.google.com/assets/colab-badge.svg\" alt=\"Open In Colab\"/></a>"
      ]
    },
    {
      "cell_type": "markdown",
      "metadata": {
        "id": "pDx7KyZoXYNb"
      },
      "source": [
        "1. Create two arrays, one containing elements [1,2], [3,4] and another containing elements [8,18] Now find the solution for this linear equation."
      ]
    },
    {
      "cell_type": "code",
      "metadata": {
        "id": "1HQu2yB2YMbj",
        "outputId": "4113fe92-9ffd-40db-f34d-6a22d65678d9",
        "colab": {
          "base_uri": "https://localhost:8080/"
        }
      },
      "source": [
        "import numpy as np\n",
        "from numpy import linalg\n",
        "a = np.array([[1,2], [3,4]])\n",
        "b = np.array([8,18])\n",
        "np.linalg.solve(a, b)\n"
      ],
      "execution_count": 15,
      "outputs": [
        {
          "output_type": "execute_result",
          "data": {
            "text/plain": [
              "array([2., 3.])"
            ]
          },
          "metadata": {
            "tags": []
          },
          "execution_count": 15
        }
      ]
    },
    {
      "cell_type": "markdown",
      "metadata": {
        "id": "RyDr51p8ZxQp"
      },
      "source": [
        "2. Create an array containing elements [2, 3, 4]. Now find the sin,cos,tan values of this array elements."
      ]
    },
    {
      "cell_type": "code",
      "metadata": {
        "id": "iXZByHNOaXbk",
        "outputId": "ee7de06b-4f9a-411a-fe24-525e3cf1c8a4",
        "colab": {
          "base_uri": "https://localhost:8080/"
        }
      },
      "source": [
        "a = np.array([2,3,4])\n",
        "n = np.sin(a)\n",
        "m = np.cos(a)\n",
        "o = np.tan(a)\n",
        "\n",
        "print(\"sin: \",n)\n",
        "print('\\n cos: ',m)\n",
        "print('\\ntan: ',o)"
      ],
      "execution_count": 23,
      "outputs": [
        {
          "output_type": "stream",
          "text": [
            "sin:  [ 0.90929743  0.14112001 -0.7568025 ]\n",
            "\n",
            " cos:  [-0.41614684 -0.9899925  -0.65364362]\n",
            "\n",
            "tan:  [-2.18503986 -0.14254654  1.15782128]\n"
          ],
          "name": "stdout"
        }
      ]
    },
    {
      "cell_type": "markdown",
      "metadata": {
        "id": "Itk2DMc6b60J"
      },
      "source": [
        "3. Given b=[5,6], then find,\n",
        "\n",
        "  a) 2sinb\n",
        "  b) 2cos3b\n",
        "  c) 4tan2b"
      ]
    },
    {
      "cell_type": "code",
      "metadata": {
        "id": "lgxpIaKebw5y",
        "outputId": "cdda68da-032c-4e5e-ef07-3018177090e5",
        "colab": {
          "base_uri": "https://localhost:8080/"
        }
      },
      "source": [
        "B = [5,6]\n",
        "\n",
        "a = 2*np.sin(B)\n",
        "print(a)\n",
        "\n",
        "b = 2*np.cos(3*B)\n",
        "print('\\n',b)\n",
        "\n",
        "c = 4*np.tan(2*b)\n",
        "print('\\n',c)"
      ],
      "execution_count": 26,
      "outputs": [
        {
          "output_type": "stream",
          "text": [
            "[-1.91784855 -0.558831  ]\n",
            "\n",
            " [0.56732437 1.92034057 0.56732437 1.92034057 0.56732437 1.92034057]\n",
            "\n",
            " [8.58216642 3.3629256  8.58216642 3.3629256  8.58216642 3.3629256 ]\n"
          ],
          "name": "stdout"
        }
      ]
    }
  ]
}