{
  "nbformat": 4,
  "nbformat_minor": 0,
  "metadata": {
    "colab": {
      "name": "TASK 20.ipynb",
      "provenance": [],
      "include_colab_link": true
    },
    "kernelspec": {
      "name": "python3",
      "display_name": "Python 3"
    },
    "language_info": {
      "name": "python"
    }
  },
  "cells": [
    {
      "cell_type": "markdown",
      "metadata": {
        "id": "view-in-github",
        "colab_type": "text"
      },
      "source": [
        "<a href=\"https://colab.research.google.com/github/Mariyathk/Learn.PY-01/blob/main/TASK_20.ipynb\" target=\"_parent\"><img src=\"https://colab.research.google.com/assets/colab-badge.svg\" alt=\"Open In Colab\"/></a>"
      ]
    },
    {
      "cell_type": "markdown",
      "metadata": {
        "id": "8LIfdcjDWmC3"
      },
      "source": [
        "1. In the data given below,\n",
        "  - find the boolean mask where value is nan\n",
        "  - remove the row with missing data.\n"
      ]
    },
    {
      "cell_type": "markdown",
      "metadata": {
        "id": "VPCGISRTbYPz"
      },
      "source": [
        ""
      ]
    },
    {
      "cell_type": "code",
      "metadata": {
        "colab": {
          "base_uri": "https://localhost:8080/"
        },
        "id": "VsZQYRqXXHpG",
        "outputId": "1d805824-4bc0-4db0-ccb6-4445a68df1e1"
      },
      "source": [
        "import pandas as pd\n",
        "import numpy as np\n",
        "dates = pd.date_range('20210101',periods=6)\n",
        "df = pd.DataFrame(np.random.randn(6,4), index=dates,columns=list('ABCD'))\n",
        "s1 = pd.Series([1,2,3,4,5,6], index=pd.date_range('20130102', periods=6))\n",
        "df[\"F\"]=s1\n",
        "df1=df.reindex(index=dates[0:4], columns=list(df.columns) + ['E'])\n",
        "df1.loc[dates[0]:dates[1],'E'] = 1\n",
        "df1\n",
        "#please provide your answer below this line\n",
        "print('DataFrame\\n', df1)\n",
        "print('\\nBoolean mask value is nan\\n', df1.isnull())\n",
        "print('\\nRemove the row with missing data\\n', df1.dropna())"
      ],
      "execution_count": 3,
      "outputs": [
        {
          "output_type": "stream",
          "name": "stdout",
          "text": [
            "DataFrame\n",
            "                    A         B         C         D   F    E\n",
            "2021-01-01 -0.424619 -0.204256  0.332415  0.516727 NaN  1.0\n",
            "2021-01-02  0.082943  1.015899 -0.786932  0.701309 NaN  1.0\n",
            "2021-01-03  0.752439 -1.383334 -0.072613  1.265645 NaN  NaN\n",
            "2021-01-04  0.608771  0.836323 -1.429105 -1.048750 NaN  NaN\n",
            "\n",
            "Boolean mask value is nan\n",
            "                 A      B      C      D     F      E\n",
            "2021-01-01  False  False  False  False  True  False\n",
            "2021-01-02  False  False  False  False  True  False\n",
            "2021-01-03  False  False  False  False  True   True\n",
            "2021-01-04  False  False  False  False  True   True\n",
            "\n",
            "Remove the row with missing data\n",
            " Empty DataFrame\n",
            "Columns: [A, B, C, D, F, E]\n",
            "Index: []\n"
          ]
        }
      ]
    },
    {
      "cell_type": "markdown",
      "metadata": {
        "id": "z1sv0aluZhcd"
      },
      "source": [
        "2. In the data given below,fill the missing data with 20."
      ]
    },
    {
      "cell_type": "code",
      "metadata": {
        "colab": {
          "base_uri": "https://localhost:8080/"
        },
        "id": "x3ZHFCeyZ0j2",
        "outputId": "c5c38dc5-f19f-4af7-cd22-b13a7e371258"
      },
      "source": [
        "import pandas as pd\n",
        "import numpy as np\n",
        "dates = pd.date_range('20210101',periods=6)\n",
        "df = pd.DataFrame(np.random.randn(6,4), index=dates,columns=list('ABCD'))\n",
        "s1 = pd.Series([1,2,3,4,5,6], index=pd.date_range('20130102', periods=6))\n",
        "df[\"F\"]=s1\n",
        "df1=df.reindex(index=dates[0:4], columns=list(df.columns) + ['E'])\n",
        "df1.loc[dates[0]:dates[1],'E'] = 1\n",
        "df1\n",
        "#please provide your answer below this line\n",
        "print('DataFrame\\n', df1)\n",
        "print('\\nfill the missing data with 20\\n', df1.fillna(value=20))"
      ],
      "execution_count": 5,
      "outputs": [
        {
          "output_type": "stream",
          "name": "stdout",
          "text": [
            "DataFrame\n",
            "                    A         B         C         D   F    E\n",
            "2021-01-01  0.717509 -0.517996 -1.236191  0.545346 NaN  1.0\n",
            "2021-01-02  0.107914  1.257864  1.429534 -0.522861 NaN  1.0\n",
            "2021-01-03 -0.362756  2.409656 -0.727474 -0.535289 NaN  NaN\n",
            "2021-01-04  0.068276  1.485078 -0.325326  0.211963 NaN  NaN\n",
            "\n",
            "fill the missing data with 20\n",
            "                    A         B         C         D     F     E\n",
            "2021-01-01  0.717509 -0.517996 -1.236191  0.545346  20.0   1.0\n",
            "2021-01-02  0.107914  1.257864  1.429534 -0.522861  20.0   1.0\n",
            "2021-01-03 -0.362756  2.409656 -0.727474 -0.535289  20.0  20.0\n",
            "2021-01-04  0.068276  1.485078 -0.325326  0.211963  20.0  20.0\n"
          ]
        }
      ]
    },
    {
      "cell_type": "markdown",
      "metadata": {
        "id": "vMzwvpxcZ3G8"
      },
      "source": [
        "3. From the data given below,\n",
        "  - break the data in to pieces from 0 t0 2 ,3 t0 7\n",
        "  - concatenate the pieces.\n",
        "  - concatenate the pieces along axis 1\n",
        "  - label each as 'a' and 'b' respectively and perform concatenation."
      ]
    },
    {
      "cell_type": "code",
      "metadata": {
        "colab": {
          "base_uri": "https://localhost:8080/",
          "height": 363
        },
        "id": "LxGwKPTVbbXV",
        "outputId": "83c9fe9e-8c7f-4c62-ca1b-157df0409d27"
      },
      "source": [
        "import pandas as pd\n",
        "import numpy as np\n",
        "df = pd.DataFrame(np.random.randn(10, 4))\n",
        "df\n",
        "#please provide your answer below this line\n"
      ],
      "execution_count": 18,
      "outputs": [
        {
          "output_type": "execute_result",
          "data": {
            "text/html": [
              "<div>\n",
              "<style scoped>\n",
              "    .dataframe tbody tr th:only-of-type {\n",
              "        vertical-align: middle;\n",
              "    }\n",
              "\n",
              "    .dataframe tbody tr th {\n",
              "        vertical-align: top;\n",
              "    }\n",
              "\n",
              "    .dataframe thead th {\n",
              "        text-align: right;\n",
              "    }\n",
              "</style>\n",
              "<table border=\"1\" class=\"dataframe\">\n",
              "  <thead>\n",
              "    <tr style=\"text-align: right;\">\n",
              "      <th></th>\n",
              "      <th>0</th>\n",
              "      <th>1</th>\n",
              "      <th>2</th>\n",
              "      <th>3</th>\n",
              "    </tr>\n",
              "  </thead>\n",
              "  <tbody>\n",
              "    <tr>\n",
              "      <th>0</th>\n",
              "      <td>1.144171</td>\n",
              "      <td>-2.018997</td>\n",
              "      <td>-0.246417</td>\n",
              "      <td>-1.505632</td>\n",
              "    </tr>\n",
              "    <tr>\n",
              "      <th>1</th>\n",
              "      <td>-0.406076</td>\n",
              "      <td>1.427305</td>\n",
              "      <td>-1.635500</td>\n",
              "      <td>-1.198228</td>\n",
              "    </tr>\n",
              "    <tr>\n",
              "      <th>2</th>\n",
              "      <td>-0.494575</td>\n",
              "      <td>0.104042</td>\n",
              "      <td>0.161379</td>\n",
              "      <td>2.400758</td>\n",
              "    </tr>\n",
              "    <tr>\n",
              "      <th>3</th>\n",
              "      <td>0.163037</td>\n",
              "      <td>0.523466</td>\n",
              "      <td>-0.414406</td>\n",
              "      <td>1.686186</td>\n",
              "    </tr>\n",
              "    <tr>\n",
              "      <th>4</th>\n",
              "      <td>-1.940476</td>\n",
              "      <td>-0.613052</td>\n",
              "      <td>1.726844</td>\n",
              "      <td>-0.059741</td>\n",
              "    </tr>\n",
              "    <tr>\n",
              "      <th>5</th>\n",
              "      <td>0.137772</td>\n",
              "      <td>-0.242878</td>\n",
              "      <td>1.018272</td>\n",
              "      <td>1.217196</td>\n",
              "    </tr>\n",
              "    <tr>\n",
              "      <th>6</th>\n",
              "      <td>1.297092</td>\n",
              "      <td>0.461597</td>\n",
              "      <td>0.366365</td>\n",
              "      <td>0.948211</td>\n",
              "    </tr>\n",
              "    <tr>\n",
              "      <th>7</th>\n",
              "      <td>-0.818451</td>\n",
              "      <td>-0.700173</td>\n",
              "      <td>-0.952825</td>\n",
              "      <td>-0.699985</td>\n",
              "    </tr>\n",
              "    <tr>\n",
              "      <th>8</th>\n",
              "      <td>-0.514280</td>\n",
              "      <td>0.669096</td>\n",
              "      <td>-0.119963</td>\n",
              "      <td>0.825198</td>\n",
              "    </tr>\n",
              "    <tr>\n",
              "      <th>9</th>\n",
              "      <td>1.632310</td>\n",
              "      <td>0.203041</td>\n",
              "      <td>-1.629530</td>\n",
              "      <td>0.949321</td>\n",
              "    </tr>\n",
              "  </tbody>\n",
              "</table>\n",
              "</div>"
            ],
            "text/plain": [
              "          0         1         2         3\n",
              "0  1.144171 -2.018997 -0.246417 -1.505632\n",
              "1 -0.406076  1.427305 -1.635500 -1.198228\n",
              "2 -0.494575  0.104042  0.161379  2.400758\n",
              "3  0.163037  0.523466 -0.414406  1.686186\n",
              "4 -1.940476 -0.613052  1.726844 -0.059741\n",
              "5  0.137772 -0.242878  1.018272  1.217196\n",
              "6  1.297092  0.461597  0.366365  0.948211\n",
              "7 -0.818451 -0.700173 -0.952825 -0.699985\n",
              "8 -0.514280  0.669096 -0.119963  0.825198\n",
              "9  1.632310  0.203041 -1.629530  0.949321"
            ]
          },
          "metadata": {},
          "execution_count": 18
        }
      ]
    },
    {
      "cell_type": "code",
      "metadata": {
        "id": "hIxwteCrO5fv",
        "outputId": "8dcd6721-e6fe-45ef-c04e-3102586a0429",
        "colab": {
          "base_uri": "https://localhost:8080/"
        }
      },
      "source": [
        "#break the data in to pieces from 0 t0 2 ,3 t0 7\n",
        "print(df.iloc[0:3])\n",
        "print(df.iloc[3:8])"
      ],
      "execution_count": 23,
      "outputs": [
        {
          "output_type": "stream",
          "name": "stdout",
          "text": [
            "          0         1         2         3\n",
            "0  1.144171 -2.018997 -0.246417 -1.505632\n",
            "1 -0.406076  1.427305 -1.635500 -1.198228\n",
            "2 -0.494575  0.104042  0.161379  2.400758\n",
            "          0         1         2         3\n",
            "3  0.163037  0.523466 -0.414406  1.686186\n",
            "4 -1.940476 -0.613052  1.726844 -0.059741\n",
            "5  0.137772 -0.242878  1.018272  1.217196\n",
            "6  1.297092  0.461597  0.366365  0.948211\n",
            "7 -0.818451 -0.700173 -0.952825 -0.699985\n"
          ]
        }
      ]
    },
    {
      "cell_type": "code",
      "metadata": {
        "id": "sbzeiSB8O5P5",
        "outputId": "637b7cdf-b6e7-404b-b1fb-7330d8321116",
        "colab": {
          "base_uri": "https://localhost:8080/",
          "height": 300
        }
      },
      "source": [
        "#concatenate the pieces\n",
        "pd.concat([df[:3],df[3:8]])"
      ],
      "execution_count": 26,
      "outputs": [
        {
          "output_type": "execute_result",
          "data": {
            "text/html": [
              "<div>\n",
              "<style scoped>\n",
              "    .dataframe tbody tr th:only-of-type {\n",
              "        vertical-align: middle;\n",
              "    }\n",
              "\n",
              "    .dataframe tbody tr th {\n",
              "        vertical-align: top;\n",
              "    }\n",
              "\n",
              "    .dataframe thead th {\n",
              "        text-align: right;\n",
              "    }\n",
              "</style>\n",
              "<table border=\"1\" class=\"dataframe\">\n",
              "  <thead>\n",
              "    <tr style=\"text-align: right;\">\n",
              "      <th></th>\n",
              "      <th>0</th>\n",
              "      <th>1</th>\n",
              "      <th>2</th>\n",
              "      <th>3</th>\n",
              "    </tr>\n",
              "  </thead>\n",
              "  <tbody>\n",
              "    <tr>\n",
              "      <th>0</th>\n",
              "      <td>1.144171</td>\n",
              "      <td>-2.018997</td>\n",
              "      <td>-0.246417</td>\n",
              "      <td>-1.505632</td>\n",
              "    </tr>\n",
              "    <tr>\n",
              "      <th>1</th>\n",
              "      <td>-0.406076</td>\n",
              "      <td>1.427305</td>\n",
              "      <td>-1.635500</td>\n",
              "      <td>-1.198228</td>\n",
              "    </tr>\n",
              "    <tr>\n",
              "      <th>2</th>\n",
              "      <td>-0.494575</td>\n",
              "      <td>0.104042</td>\n",
              "      <td>0.161379</td>\n",
              "      <td>2.400758</td>\n",
              "    </tr>\n",
              "    <tr>\n",
              "      <th>3</th>\n",
              "      <td>0.163037</td>\n",
              "      <td>0.523466</td>\n",
              "      <td>-0.414406</td>\n",
              "      <td>1.686186</td>\n",
              "    </tr>\n",
              "    <tr>\n",
              "      <th>4</th>\n",
              "      <td>-1.940476</td>\n",
              "      <td>-0.613052</td>\n",
              "      <td>1.726844</td>\n",
              "      <td>-0.059741</td>\n",
              "    </tr>\n",
              "    <tr>\n",
              "      <th>5</th>\n",
              "      <td>0.137772</td>\n",
              "      <td>-0.242878</td>\n",
              "      <td>1.018272</td>\n",
              "      <td>1.217196</td>\n",
              "    </tr>\n",
              "    <tr>\n",
              "      <th>6</th>\n",
              "      <td>1.297092</td>\n",
              "      <td>0.461597</td>\n",
              "      <td>0.366365</td>\n",
              "      <td>0.948211</td>\n",
              "    </tr>\n",
              "    <tr>\n",
              "      <th>7</th>\n",
              "      <td>-0.818451</td>\n",
              "      <td>-0.700173</td>\n",
              "      <td>-0.952825</td>\n",
              "      <td>-0.699985</td>\n",
              "    </tr>\n",
              "  </tbody>\n",
              "</table>\n",
              "</div>"
            ],
            "text/plain": [
              "          0         1         2         3\n",
              "0  1.144171 -2.018997 -0.246417 -1.505632\n",
              "1 -0.406076  1.427305 -1.635500 -1.198228\n",
              "2 -0.494575  0.104042  0.161379  2.400758\n",
              "3  0.163037  0.523466 -0.414406  1.686186\n",
              "4 -1.940476 -0.613052  1.726844 -0.059741\n",
              "5  0.137772 -0.242878  1.018272  1.217196\n",
              "6  1.297092  0.461597  0.366365  0.948211\n",
              "7 -0.818451 -0.700173 -0.952825 -0.699985"
            ]
          },
          "metadata": {},
          "execution_count": 26
        }
      ]
    },
    {
      "cell_type": "code",
      "metadata": {
        "id": "WtsaJD5lO5Fg",
        "outputId": "c9c5f8f6-d560-46ea-df7b-5c6e3173b633",
        "colab": {
          "base_uri": "https://localhost:8080/",
          "height": 300
        }
      },
      "source": [
        "#concatenate the pieces along axis 1\n",
        "pd.concat([df[:3],df[3:8]],axis=1)"
      ],
      "execution_count": 29,
      "outputs": [
        {
          "output_type": "execute_result",
          "data": {
            "text/html": [
              "<div>\n",
              "<style scoped>\n",
              "    .dataframe tbody tr th:only-of-type {\n",
              "        vertical-align: middle;\n",
              "    }\n",
              "\n",
              "    .dataframe tbody tr th {\n",
              "        vertical-align: top;\n",
              "    }\n",
              "\n",
              "    .dataframe thead th {\n",
              "        text-align: right;\n",
              "    }\n",
              "</style>\n",
              "<table border=\"1\" class=\"dataframe\">\n",
              "  <thead>\n",
              "    <tr style=\"text-align: right;\">\n",
              "      <th></th>\n",
              "      <th>0</th>\n",
              "      <th>1</th>\n",
              "      <th>2</th>\n",
              "      <th>3</th>\n",
              "      <th>0</th>\n",
              "      <th>1</th>\n",
              "      <th>2</th>\n",
              "      <th>3</th>\n",
              "    </tr>\n",
              "  </thead>\n",
              "  <tbody>\n",
              "    <tr>\n",
              "      <th>0</th>\n",
              "      <td>1.144171</td>\n",
              "      <td>-2.018997</td>\n",
              "      <td>-0.246417</td>\n",
              "      <td>-1.505632</td>\n",
              "      <td>NaN</td>\n",
              "      <td>NaN</td>\n",
              "      <td>NaN</td>\n",
              "      <td>NaN</td>\n",
              "    </tr>\n",
              "    <tr>\n",
              "      <th>1</th>\n",
              "      <td>-0.406076</td>\n",
              "      <td>1.427305</td>\n",
              "      <td>-1.635500</td>\n",
              "      <td>-1.198228</td>\n",
              "      <td>NaN</td>\n",
              "      <td>NaN</td>\n",
              "      <td>NaN</td>\n",
              "      <td>NaN</td>\n",
              "    </tr>\n",
              "    <tr>\n",
              "      <th>2</th>\n",
              "      <td>-0.494575</td>\n",
              "      <td>0.104042</td>\n",
              "      <td>0.161379</td>\n",
              "      <td>2.400758</td>\n",
              "      <td>NaN</td>\n",
              "      <td>NaN</td>\n",
              "      <td>NaN</td>\n",
              "      <td>NaN</td>\n",
              "    </tr>\n",
              "    <tr>\n",
              "      <th>3</th>\n",
              "      <td>NaN</td>\n",
              "      <td>NaN</td>\n",
              "      <td>NaN</td>\n",
              "      <td>NaN</td>\n",
              "      <td>0.163037</td>\n",
              "      <td>0.523466</td>\n",
              "      <td>-0.414406</td>\n",
              "      <td>1.686186</td>\n",
              "    </tr>\n",
              "    <tr>\n",
              "      <th>4</th>\n",
              "      <td>NaN</td>\n",
              "      <td>NaN</td>\n",
              "      <td>NaN</td>\n",
              "      <td>NaN</td>\n",
              "      <td>-1.940476</td>\n",
              "      <td>-0.613052</td>\n",
              "      <td>1.726844</td>\n",
              "      <td>-0.059741</td>\n",
              "    </tr>\n",
              "    <tr>\n",
              "      <th>5</th>\n",
              "      <td>NaN</td>\n",
              "      <td>NaN</td>\n",
              "      <td>NaN</td>\n",
              "      <td>NaN</td>\n",
              "      <td>0.137772</td>\n",
              "      <td>-0.242878</td>\n",
              "      <td>1.018272</td>\n",
              "      <td>1.217196</td>\n",
              "    </tr>\n",
              "    <tr>\n",
              "      <th>6</th>\n",
              "      <td>NaN</td>\n",
              "      <td>NaN</td>\n",
              "      <td>NaN</td>\n",
              "      <td>NaN</td>\n",
              "      <td>1.297092</td>\n",
              "      <td>0.461597</td>\n",
              "      <td>0.366365</td>\n",
              "      <td>0.948211</td>\n",
              "    </tr>\n",
              "    <tr>\n",
              "      <th>7</th>\n",
              "      <td>NaN</td>\n",
              "      <td>NaN</td>\n",
              "      <td>NaN</td>\n",
              "      <td>NaN</td>\n",
              "      <td>-0.818451</td>\n",
              "      <td>-0.700173</td>\n",
              "      <td>-0.952825</td>\n",
              "      <td>-0.699985</td>\n",
              "    </tr>\n",
              "  </tbody>\n",
              "</table>\n",
              "</div>"
            ],
            "text/plain": [
              "          0         1         2  ...         1         2         3\n",
              "0  1.144171 -2.018997 -0.246417  ...       NaN       NaN       NaN\n",
              "1 -0.406076  1.427305 -1.635500  ...       NaN       NaN       NaN\n",
              "2 -0.494575  0.104042  0.161379  ...       NaN       NaN       NaN\n",
              "3       NaN       NaN       NaN  ...  0.523466 -0.414406  1.686186\n",
              "4       NaN       NaN       NaN  ... -0.613052  1.726844 -0.059741\n",
              "5       NaN       NaN       NaN  ... -0.242878  1.018272  1.217196\n",
              "6       NaN       NaN       NaN  ...  0.461597  0.366365  0.948211\n",
              "7       NaN       NaN       NaN  ... -0.700173 -0.952825 -0.699985\n",
              "\n",
              "[8 rows x 8 columns]"
            ]
          },
          "metadata": {},
          "execution_count": 29
        }
      ]
    },
    {
      "cell_type": "code",
      "metadata": {
        "id": "h290MAgudPQI",
        "outputId": "9e17cc93-b51e-4bfc-d507-68091789ab49",
        "colab": {
          "base_uri": "https://localhost:8080/",
          "height": 269
        }
      },
      "source": [
        "#label each as 'a' and 'b' respectively and perform concatenation\n",
        "a = df[1:3]\n",
        "b = df[3:8]\n",
        "pd.concat([a,b])"
      ],
      "execution_count": 31,
      "outputs": [
        {
          "output_type": "execute_result",
          "data": {
            "text/html": [
              "<div>\n",
              "<style scoped>\n",
              "    .dataframe tbody tr th:only-of-type {\n",
              "        vertical-align: middle;\n",
              "    }\n",
              "\n",
              "    .dataframe tbody tr th {\n",
              "        vertical-align: top;\n",
              "    }\n",
              "\n",
              "    .dataframe thead th {\n",
              "        text-align: right;\n",
              "    }\n",
              "</style>\n",
              "<table border=\"1\" class=\"dataframe\">\n",
              "  <thead>\n",
              "    <tr style=\"text-align: right;\">\n",
              "      <th></th>\n",
              "      <th>0</th>\n",
              "      <th>1</th>\n",
              "      <th>2</th>\n",
              "      <th>3</th>\n",
              "    </tr>\n",
              "  </thead>\n",
              "  <tbody>\n",
              "    <tr>\n",
              "      <th>1</th>\n",
              "      <td>-0.406076</td>\n",
              "      <td>1.427305</td>\n",
              "      <td>-1.635500</td>\n",
              "      <td>-1.198228</td>\n",
              "    </tr>\n",
              "    <tr>\n",
              "      <th>2</th>\n",
              "      <td>-0.494575</td>\n",
              "      <td>0.104042</td>\n",
              "      <td>0.161379</td>\n",
              "      <td>2.400758</td>\n",
              "    </tr>\n",
              "    <tr>\n",
              "      <th>3</th>\n",
              "      <td>0.163037</td>\n",
              "      <td>0.523466</td>\n",
              "      <td>-0.414406</td>\n",
              "      <td>1.686186</td>\n",
              "    </tr>\n",
              "    <tr>\n",
              "      <th>4</th>\n",
              "      <td>-1.940476</td>\n",
              "      <td>-0.613052</td>\n",
              "      <td>1.726844</td>\n",
              "      <td>-0.059741</td>\n",
              "    </tr>\n",
              "    <tr>\n",
              "      <th>5</th>\n",
              "      <td>0.137772</td>\n",
              "      <td>-0.242878</td>\n",
              "      <td>1.018272</td>\n",
              "      <td>1.217196</td>\n",
              "    </tr>\n",
              "    <tr>\n",
              "      <th>6</th>\n",
              "      <td>1.297092</td>\n",
              "      <td>0.461597</td>\n",
              "      <td>0.366365</td>\n",
              "      <td>0.948211</td>\n",
              "    </tr>\n",
              "    <tr>\n",
              "      <th>7</th>\n",
              "      <td>-0.818451</td>\n",
              "      <td>-0.700173</td>\n",
              "      <td>-0.952825</td>\n",
              "      <td>-0.699985</td>\n",
              "    </tr>\n",
              "  </tbody>\n",
              "</table>\n",
              "</div>"
            ],
            "text/plain": [
              "          0         1         2         3\n",
              "1 -0.406076  1.427305 -1.635500 -1.198228\n",
              "2 -0.494575  0.104042  0.161379  2.400758\n",
              "3  0.163037  0.523466 -0.414406  1.686186\n",
              "4 -1.940476 -0.613052  1.726844 -0.059741\n",
              "5  0.137772 -0.242878  1.018272  1.217196\n",
              "6  1.297092  0.461597  0.366365  0.948211\n",
              "7 -0.818451 -0.700173 -0.952825 -0.699985"
            ]
          },
          "metadata": {},
          "execution_count": 31
        }
      ]
    },
    {
      "cell_type": "code",
      "metadata": {
        "id": "DdPD7idXXJif"
      },
      "source": [
        ""
      ],
      "execution_count": null,
      "outputs": []
    }
  ]
}