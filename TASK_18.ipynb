{
  "nbformat": 4,
  "nbformat_minor": 0,
  "metadata": {
    "colab": {
      "name": "TASK 18.ipynb",
      "provenance": [],
      "include_colab_link": true
    },
    "kernelspec": {
      "name": "python3",
      "display_name": "Python 3"
    },
    "language_info": {
      "name": "python"
    }
  },
  "cells": [
    {
      "cell_type": "markdown",
      "metadata": {
        "id": "view-in-github",
        "colab_type": "text"
      },
      "source": [
        "<a href=\"https://colab.research.google.com/github/Mariyathk/Learn.PY-01/blob/main/TASK_18.ipynb\" target=\"_parent\"><img src=\"https://colab.research.google.com/assets/colab-badge.svg\" alt=\"Open In Colab\"/></a>"
      ]
    },
    {
      "cell_type": "markdown",
      "metadata": {
        "id": "_JgXT8pEAjU4"
      },
      "source": [
        "1. \n",
        "Create a DataFrame by passing a random numpy array,with a datetie index and labelled columns.and,\n",
        "    - slice its first three rows and display.\n",
        "    - slice its odd indexed rows.\n",
        "    - display the dates from 1st postion to 4 th position."
      ]
    },
    {
      "cell_type": "code",
      "metadata": {
        "id": "5zFM5VOJBKBV",
        "outputId": "cdcd1e21-e0f5-4fe9-86e5-ededacd490d2",
        "colab": {
          "base_uri": "https://localhost:8080/",
          "height": 237
        }
      },
      "source": [
        "#please provide your answer below this line.\n",
        "import pandas as pd\n",
        "import numpy as np\n",
        "dates = pd.date_range('today',periods=6)\n",
        "num_arr = np.random.randn(6,6)\n",
        "df = pd.DataFrame(num_arr, index=dates, columns=['A','B','C','D','E','F'])\n",
        "df"
      ],
      "execution_count": 4,
      "outputs": [
        {
          "output_type": "execute_result",
          "data": {
            "text/html": [
              "<div>\n",
              "<style scoped>\n",
              "    .dataframe tbody tr th:only-of-type {\n",
              "        vertical-align: middle;\n",
              "    }\n",
              "\n",
              "    .dataframe tbody tr th {\n",
              "        vertical-align: top;\n",
              "    }\n",
              "\n",
              "    .dataframe thead th {\n",
              "        text-align: right;\n",
              "    }\n",
              "</style>\n",
              "<table border=\"1\" class=\"dataframe\">\n",
              "  <thead>\n",
              "    <tr style=\"text-align: right;\">\n",
              "      <th></th>\n",
              "      <th>A</th>\n",
              "      <th>B</th>\n",
              "      <th>C</th>\n",
              "      <th>D</th>\n",
              "      <th>E</th>\n",
              "      <th>F</th>\n",
              "    </tr>\n",
              "  </thead>\n",
              "  <tbody>\n",
              "    <tr>\n",
              "      <th>2021-09-03 16:25:26.848635</th>\n",
              "      <td>0.738072</td>\n",
              "      <td>0.051118</td>\n",
              "      <td>-0.948724</td>\n",
              "      <td>-0.178928</td>\n",
              "      <td>-0.986561</td>\n",
              "      <td>-0.175852</td>\n",
              "    </tr>\n",
              "    <tr>\n",
              "      <th>2021-09-04 16:25:26.848635</th>\n",
              "      <td>-0.215496</td>\n",
              "      <td>0.686058</td>\n",
              "      <td>-0.197702</td>\n",
              "      <td>-0.725855</td>\n",
              "      <td>0.474952</td>\n",
              "      <td>0.224594</td>\n",
              "    </tr>\n",
              "    <tr>\n",
              "      <th>2021-09-05 16:25:26.848635</th>\n",
              "      <td>-0.163435</td>\n",
              "      <td>0.489904</td>\n",
              "      <td>0.869940</td>\n",
              "      <td>-1.201958</td>\n",
              "      <td>1.602671</td>\n",
              "      <td>0.464752</td>\n",
              "    </tr>\n",
              "    <tr>\n",
              "      <th>2021-09-06 16:25:26.848635</th>\n",
              "      <td>-1.315387</td>\n",
              "      <td>0.209551</td>\n",
              "      <td>0.451690</td>\n",
              "      <td>-0.740777</td>\n",
              "      <td>1.201983</td>\n",
              "      <td>0.888036</td>\n",
              "    </tr>\n",
              "    <tr>\n",
              "      <th>2021-09-07 16:25:26.848635</th>\n",
              "      <td>-0.380552</td>\n",
              "      <td>1.540615</td>\n",
              "      <td>1.143086</td>\n",
              "      <td>1.049458</td>\n",
              "      <td>-1.350002</td>\n",
              "      <td>0.743580</td>\n",
              "    </tr>\n",
              "    <tr>\n",
              "      <th>2021-09-08 16:25:26.848635</th>\n",
              "      <td>-0.047787</td>\n",
              "      <td>0.047109</td>\n",
              "      <td>-0.251645</td>\n",
              "      <td>-0.562542</td>\n",
              "      <td>0.226898</td>\n",
              "      <td>-0.395860</td>\n",
              "    </tr>\n",
              "  </tbody>\n",
              "</table>\n",
              "</div>"
            ],
            "text/plain": [
              "                                   A         B  ...         E         F\n",
              "2021-09-03 16:25:26.848635  0.738072  0.051118  ... -0.986561 -0.175852\n",
              "2021-09-04 16:25:26.848635 -0.215496  0.686058  ...  0.474952  0.224594\n",
              "2021-09-05 16:25:26.848635 -0.163435  0.489904  ...  1.602671  0.464752\n",
              "2021-09-06 16:25:26.848635 -1.315387  0.209551  ...  1.201983  0.888036\n",
              "2021-09-07 16:25:26.848635 -0.380552  1.540615  ... -1.350002  0.743580\n",
              "2021-09-08 16:25:26.848635 -0.047787  0.047109  ...  0.226898 -0.395860\n",
              "\n",
              "[6 rows x 6 columns]"
            ]
          },
          "metadata": {},
          "execution_count": 4
        }
      ]
    },
    {
      "cell_type": "code",
      "metadata": {
        "id": "LEyeqi8ueskJ",
        "outputId": "00c8d2b5-e1cd-4ca2-84de-5d716df36c2a",
        "colab": {
          "base_uri": "https://localhost:8080/",
          "height": 143
        }
      },
      "source": [
        "#slice its first three rows and display\n",
        "df[:3]"
      ],
      "execution_count": 5,
      "outputs": [
        {
          "output_type": "execute_result",
          "data": {
            "text/html": [
              "<div>\n",
              "<style scoped>\n",
              "    .dataframe tbody tr th:only-of-type {\n",
              "        vertical-align: middle;\n",
              "    }\n",
              "\n",
              "    .dataframe tbody tr th {\n",
              "        vertical-align: top;\n",
              "    }\n",
              "\n",
              "    .dataframe thead th {\n",
              "        text-align: right;\n",
              "    }\n",
              "</style>\n",
              "<table border=\"1\" class=\"dataframe\">\n",
              "  <thead>\n",
              "    <tr style=\"text-align: right;\">\n",
              "      <th></th>\n",
              "      <th>A</th>\n",
              "      <th>B</th>\n",
              "      <th>C</th>\n",
              "      <th>D</th>\n",
              "      <th>E</th>\n",
              "      <th>F</th>\n",
              "    </tr>\n",
              "  </thead>\n",
              "  <tbody>\n",
              "    <tr>\n",
              "      <th>2021-09-03 16:25:26.848635</th>\n",
              "      <td>0.738072</td>\n",
              "      <td>0.051118</td>\n",
              "      <td>-0.948724</td>\n",
              "      <td>-0.178928</td>\n",
              "      <td>-0.986561</td>\n",
              "      <td>-0.175852</td>\n",
              "    </tr>\n",
              "    <tr>\n",
              "      <th>2021-09-04 16:25:26.848635</th>\n",
              "      <td>-0.215496</td>\n",
              "      <td>0.686058</td>\n",
              "      <td>-0.197702</td>\n",
              "      <td>-0.725855</td>\n",
              "      <td>0.474952</td>\n",
              "      <td>0.224594</td>\n",
              "    </tr>\n",
              "    <tr>\n",
              "      <th>2021-09-05 16:25:26.848635</th>\n",
              "      <td>-0.163435</td>\n",
              "      <td>0.489904</td>\n",
              "      <td>0.869940</td>\n",
              "      <td>-1.201958</td>\n",
              "      <td>1.602671</td>\n",
              "      <td>0.464752</td>\n",
              "    </tr>\n",
              "  </tbody>\n",
              "</table>\n",
              "</div>"
            ],
            "text/plain": [
              "                                   A         B  ...         E         F\n",
              "2021-09-03 16:25:26.848635  0.738072  0.051118  ... -0.986561 -0.175852\n",
              "2021-09-04 16:25:26.848635 -0.215496  0.686058  ...  0.474952  0.224594\n",
              "2021-09-05 16:25:26.848635 -0.163435  0.489904  ...  1.602671  0.464752\n",
              "\n",
              "[3 rows x 6 columns]"
            ]
          },
          "metadata": {},
          "execution_count": 5
        }
      ]
    },
    {
      "cell_type": "code",
      "metadata": {
        "id": "G4KCIezkesUt",
        "outputId": "b7d6c51b-adb8-405d-aece-5f73e05d4a66",
        "colab": {
          "base_uri": "https://localhost:8080/",
          "height": 143
        }
      },
      "source": [
        "#slice its odd indexed rows\n",
        "df[::2]"
      ],
      "execution_count": 6,
      "outputs": [
        {
          "output_type": "execute_result",
          "data": {
            "text/html": [
              "<div>\n",
              "<style scoped>\n",
              "    .dataframe tbody tr th:only-of-type {\n",
              "        vertical-align: middle;\n",
              "    }\n",
              "\n",
              "    .dataframe tbody tr th {\n",
              "        vertical-align: top;\n",
              "    }\n",
              "\n",
              "    .dataframe thead th {\n",
              "        text-align: right;\n",
              "    }\n",
              "</style>\n",
              "<table border=\"1\" class=\"dataframe\">\n",
              "  <thead>\n",
              "    <tr style=\"text-align: right;\">\n",
              "      <th></th>\n",
              "      <th>A</th>\n",
              "      <th>B</th>\n",
              "      <th>C</th>\n",
              "      <th>D</th>\n",
              "      <th>E</th>\n",
              "      <th>F</th>\n",
              "    </tr>\n",
              "  </thead>\n",
              "  <tbody>\n",
              "    <tr>\n",
              "      <th>2021-09-03 16:25:26.848635</th>\n",
              "      <td>0.738072</td>\n",
              "      <td>0.051118</td>\n",
              "      <td>-0.948724</td>\n",
              "      <td>-0.178928</td>\n",
              "      <td>-0.986561</td>\n",
              "      <td>-0.175852</td>\n",
              "    </tr>\n",
              "    <tr>\n",
              "      <th>2021-09-05 16:25:26.848635</th>\n",
              "      <td>-0.163435</td>\n",
              "      <td>0.489904</td>\n",
              "      <td>0.869940</td>\n",
              "      <td>-1.201958</td>\n",
              "      <td>1.602671</td>\n",
              "      <td>0.464752</td>\n",
              "    </tr>\n",
              "    <tr>\n",
              "      <th>2021-09-07 16:25:26.848635</th>\n",
              "      <td>-0.380552</td>\n",
              "      <td>1.540615</td>\n",
              "      <td>1.143086</td>\n",
              "      <td>1.049458</td>\n",
              "      <td>-1.350002</td>\n",
              "      <td>0.743580</td>\n",
              "    </tr>\n",
              "  </tbody>\n",
              "</table>\n",
              "</div>"
            ],
            "text/plain": [
              "                                   A         B  ...         E         F\n",
              "2021-09-03 16:25:26.848635  0.738072  0.051118  ... -0.986561 -0.175852\n",
              "2021-09-05 16:25:26.848635 -0.163435  0.489904  ...  1.602671  0.464752\n",
              "2021-09-07 16:25:26.848635 -0.380552  1.540615  ... -1.350002  0.743580\n",
              "\n",
              "[3 rows x 6 columns]"
            ]
          },
          "metadata": {},
          "execution_count": 6
        }
      ]
    },
    {
      "cell_type": "code",
      "metadata": {
        "id": "68VA1SQce6nl",
        "outputId": "64c40220-e08e-42dd-fab6-5118dd88d4d5",
        "colab": {
          "base_uri": "https://localhost:8080/"
        }
      },
      "source": [
        "#display the dates from 1st postion to 4 th position\n",
        "df.index[:4]"
      ],
      "execution_count": 9,
      "outputs": [
        {
          "output_type": "execute_result",
          "data": {
            "text/plain": [
              "DatetimeIndex(['2021-09-03 16:25:26.848635', '2021-09-04 16:25:26.848635',\n",
              "               '2021-09-05 16:25:26.848635', '2021-09-06 16:25:26.848635'],\n",
              "              dtype='datetime64[ns]', freq='D')"
            ]
          },
          "metadata": {},
          "execution_count": 9
        }
      ]
    },
    {
      "cell_type": "markdown",
      "metadata": {
        "id": "QuoucvjxBPmX"
      },
      "source": [
        "2. Create a DataFrame by passing a random numpy array,with a datetie index and labelled columns.and\n",
        "  - Dislplay the index from the 1 to 3 date and the columns A and B of respective data.\n",
        "  - Display the datas at the 3rd index.\n",
        "  - Display datas from 2nd to 5th.\n",
        "  - Display the datas from the index 1,2,4 and the column 0 and 2."
      ]
    },
    {
      "cell_type": "code",
      "metadata": {
        "id": "qV_wzsp1DUKI",
        "outputId": "44b55985-02ac-452e-989b-6b2de8c46f1c",
        "colab": {
          "base_uri": "https://localhost:8080/",
          "height": 237
        }
      },
      "source": [
        "#please provide your answer below thins line.\n",
        "import pandas as pd\n",
        "import numpy as np\n",
        "dates = pd.date_range('today',periods=6)\n",
        "num_arr = np.random.randn(6,6)\n",
        "df = pd.DataFrame(num_arr, index=dates, columns=['A','B','C','D','E','F'])\n",
        "df"
      ],
      "execution_count": 10,
      "outputs": [
        {
          "output_type": "execute_result",
          "data": {
            "text/html": [
              "<div>\n",
              "<style scoped>\n",
              "    .dataframe tbody tr th:only-of-type {\n",
              "        vertical-align: middle;\n",
              "    }\n",
              "\n",
              "    .dataframe tbody tr th {\n",
              "        vertical-align: top;\n",
              "    }\n",
              "\n",
              "    .dataframe thead th {\n",
              "        text-align: right;\n",
              "    }\n",
              "</style>\n",
              "<table border=\"1\" class=\"dataframe\">\n",
              "  <thead>\n",
              "    <tr style=\"text-align: right;\">\n",
              "      <th></th>\n",
              "      <th>A</th>\n",
              "      <th>B</th>\n",
              "      <th>C</th>\n",
              "      <th>D</th>\n",
              "      <th>E</th>\n",
              "      <th>F</th>\n",
              "    </tr>\n",
              "  </thead>\n",
              "  <tbody>\n",
              "    <tr>\n",
              "      <th>2021-09-03 16:29:59.011610</th>\n",
              "      <td>-1.683997</td>\n",
              "      <td>-2.544879</td>\n",
              "      <td>-0.493358</td>\n",
              "      <td>0.427320</td>\n",
              "      <td>-0.532673</td>\n",
              "      <td>0.549797</td>\n",
              "    </tr>\n",
              "    <tr>\n",
              "      <th>2021-09-04 16:29:59.011610</th>\n",
              "      <td>-0.304360</td>\n",
              "      <td>0.123223</td>\n",
              "      <td>2.121411</td>\n",
              "      <td>0.866242</td>\n",
              "      <td>-0.899609</td>\n",
              "      <td>0.474777</td>\n",
              "    </tr>\n",
              "    <tr>\n",
              "      <th>2021-09-05 16:29:59.011610</th>\n",
              "      <td>1.849958</td>\n",
              "      <td>-0.019161</td>\n",
              "      <td>2.225744</td>\n",
              "      <td>-0.634873</td>\n",
              "      <td>-1.139383</td>\n",
              "      <td>-0.064853</td>\n",
              "    </tr>\n",
              "    <tr>\n",
              "      <th>2021-09-06 16:29:59.011610</th>\n",
              "      <td>-0.002248</td>\n",
              "      <td>0.647990</td>\n",
              "      <td>-0.048424</td>\n",
              "      <td>-1.060744</td>\n",
              "      <td>0.109782</td>\n",
              "      <td>2.289214</td>\n",
              "    </tr>\n",
              "    <tr>\n",
              "      <th>2021-09-07 16:29:59.011610</th>\n",
              "      <td>0.841765</td>\n",
              "      <td>1.848217</td>\n",
              "      <td>0.081090</td>\n",
              "      <td>-0.342458</td>\n",
              "      <td>0.342196</td>\n",
              "      <td>-0.224352</td>\n",
              "    </tr>\n",
              "    <tr>\n",
              "      <th>2021-09-08 16:29:59.011610</th>\n",
              "      <td>-0.679132</td>\n",
              "      <td>-0.614846</td>\n",
              "      <td>0.746399</td>\n",
              "      <td>0.712676</td>\n",
              "      <td>0.209010</td>\n",
              "      <td>-1.471923</td>\n",
              "    </tr>\n",
              "  </tbody>\n",
              "</table>\n",
              "</div>"
            ],
            "text/plain": [
              "                                   A         B  ...         E         F\n",
              "2021-09-03 16:29:59.011610 -1.683997 -2.544879  ... -0.532673  0.549797\n",
              "2021-09-04 16:29:59.011610 -0.304360  0.123223  ... -0.899609  0.474777\n",
              "2021-09-05 16:29:59.011610  1.849958 -0.019161  ... -1.139383 -0.064853\n",
              "2021-09-06 16:29:59.011610 -0.002248  0.647990  ...  0.109782  2.289214\n",
              "2021-09-07 16:29:59.011610  0.841765  1.848217  ...  0.342196 -0.224352\n",
              "2021-09-08 16:29:59.011610 -0.679132 -0.614846  ...  0.209010 -1.471923\n",
              "\n",
              "[6 rows x 6 columns]"
            ]
          },
          "metadata": {},
          "execution_count": 10
        }
      ]
    },
    {
      "cell_type": "code",
      "metadata": {
        "id": "sNh0mDuHftLG",
        "outputId": "7e59488a-6bba-451d-9c43-425c48b15101",
        "colab": {
          "base_uri": "https://localhost:8080/",
          "height": 143
        }
      },
      "source": [
        "#Dislplay the index from the 1 to 3 date and the columns A and B of respective data\n",
        "df[['A','B']][:3]"
      ],
      "execution_count": 19,
      "outputs": [
        {
          "output_type": "execute_result",
          "data": {
            "text/html": [
              "<div>\n",
              "<style scoped>\n",
              "    .dataframe tbody tr th:only-of-type {\n",
              "        vertical-align: middle;\n",
              "    }\n",
              "\n",
              "    .dataframe tbody tr th {\n",
              "        vertical-align: top;\n",
              "    }\n",
              "\n",
              "    .dataframe thead th {\n",
              "        text-align: right;\n",
              "    }\n",
              "</style>\n",
              "<table border=\"1\" class=\"dataframe\">\n",
              "  <thead>\n",
              "    <tr style=\"text-align: right;\">\n",
              "      <th></th>\n",
              "      <th>A</th>\n",
              "      <th>B</th>\n",
              "    </tr>\n",
              "  </thead>\n",
              "  <tbody>\n",
              "    <tr>\n",
              "      <th>2021-09-03 16:29:59.011610</th>\n",
              "      <td>-1.683997</td>\n",
              "      <td>-2.544879</td>\n",
              "    </tr>\n",
              "    <tr>\n",
              "      <th>2021-09-04 16:29:59.011610</th>\n",
              "      <td>-0.304360</td>\n",
              "      <td>0.123223</td>\n",
              "    </tr>\n",
              "    <tr>\n",
              "      <th>2021-09-05 16:29:59.011610</th>\n",
              "      <td>1.849958</td>\n",
              "      <td>-0.019161</td>\n",
              "    </tr>\n",
              "  </tbody>\n",
              "</table>\n",
              "</div>"
            ],
            "text/plain": [
              "                                   A         B\n",
              "2021-09-03 16:29:59.011610 -1.683997 -2.544879\n",
              "2021-09-04 16:29:59.011610 -0.304360  0.123223\n",
              "2021-09-05 16:29:59.011610  1.849958 -0.019161"
            ]
          },
          "metadata": {},
          "execution_count": 19
        }
      ]
    },
    {
      "cell_type": "code",
      "metadata": {
        "id": "O5GGWFOmfz2z",
        "outputId": "993bb06c-3ad6-44a9-9cf2-9c8e4ed0cb07",
        "colab": {
          "base_uri": "https://localhost:8080/",
          "height": 81
        }
      },
      "source": [
        "#Display the datas at the 3rd index\n",
        "df.iloc[[3]]"
      ],
      "execution_count": 23,
      "outputs": [
        {
          "output_type": "execute_result",
          "data": {
            "text/html": [
              "<div>\n",
              "<style scoped>\n",
              "    .dataframe tbody tr th:only-of-type {\n",
              "        vertical-align: middle;\n",
              "    }\n",
              "\n",
              "    .dataframe tbody tr th {\n",
              "        vertical-align: top;\n",
              "    }\n",
              "\n",
              "    .dataframe thead th {\n",
              "        text-align: right;\n",
              "    }\n",
              "</style>\n",
              "<table border=\"1\" class=\"dataframe\">\n",
              "  <thead>\n",
              "    <tr style=\"text-align: right;\">\n",
              "      <th></th>\n",
              "      <th>A</th>\n",
              "      <th>B</th>\n",
              "      <th>C</th>\n",
              "      <th>D</th>\n",
              "      <th>E</th>\n",
              "      <th>F</th>\n",
              "    </tr>\n",
              "  </thead>\n",
              "  <tbody>\n",
              "    <tr>\n",
              "      <th>2021-09-06 16:29:59.011610</th>\n",
              "      <td>-0.002248</td>\n",
              "      <td>0.64799</td>\n",
              "      <td>-0.048424</td>\n",
              "      <td>-1.060744</td>\n",
              "      <td>0.109782</td>\n",
              "      <td>2.289214</td>\n",
              "    </tr>\n",
              "  </tbody>\n",
              "</table>\n",
              "</div>"
            ],
            "text/plain": [
              "                                   A        B  ...         E         F\n",
              "2021-09-06 16:29:59.011610 -0.002248  0.64799  ...  0.109782  2.289214\n",
              "\n",
              "[1 rows x 6 columns]"
            ]
          },
          "metadata": {},
          "execution_count": 23
        }
      ]
    },
    {
      "cell_type": "code",
      "metadata": {
        "id": "hC2agiiYf7I_",
        "outputId": "087ea839-0b47-4508-bcb8-820b2e0e87de",
        "colab": {
          "base_uri": "https://localhost:8080/",
          "height": 175
        }
      },
      "source": [
        "#Display datas from 2nd to 5th\n",
        "df[1:5]"
      ],
      "execution_count": 21,
      "outputs": [
        {
          "output_type": "execute_result",
          "data": {
            "text/html": [
              "<div>\n",
              "<style scoped>\n",
              "    .dataframe tbody tr th:only-of-type {\n",
              "        vertical-align: middle;\n",
              "    }\n",
              "\n",
              "    .dataframe tbody tr th {\n",
              "        vertical-align: top;\n",
              "    }\n",
              "\n",
              "    .dataframe thead th {\n",
              "        text-align: right;\n",
              "    }\n",
              "</style>\n",
              "<table border=\"1\" class=\"dataframe\">\n",
              "  <thead>\n",
              "    <tr style=\"text-align: right;\">\n",
              "      <th></th>\n",
              "      <th>A</th>\n",
              "      <th>B</th>\n",
              "      <th>C</th>\n",
              "      <th>D</th>\n",
              "      <th>E</th>\n",
              "      <th>F</th>\n",
              "    </tr>\n",
              "  </thead>\n",
              "  <tbody>\n",
              "    <tr>\n",
              "      <th>2021-09-04 16:29:59.011610</th>\n",
              "      <td>-0.304360</td>\n",
              "      <td>0.123223</td>\n",
              "      <td>2.121411</td>\n",
              "      <td>0.866242</td>\n",
              "      <td>-0.899609</td>\n",
              "      <td>0.474777</td>\n",
              "    </tr>\n",
              "    <tr>\n",
              "      <th>2021-09-05 16:29:59.011610</th>\n",
              "      <td>1.849958</td>\n",
              "      <td>-0.019161</td>\n",
              "      <td>2.225744</td>\n",
              "      <td>-0.634873</td>\n",
              "      <td>-1.139383</td>\n",
              "      <td>-0.064853</td>\n",
              "    </tr>\n",
              "    <tr>\n",
              "      <th>2021-09-06 16:29:59.011610</th>\n",
              "      <td>-0.002248</td>\n",
              "      <td>0.647990</td>\n",
              "      <td>-0.048424</td>\n",
              "      <td>-1.060744</td>\n",
              "      <td>0.109782</td>\n",
              "      <td>2.289214</td>\n",
              "    </tr>\n",
              "    <tr>\n",
              "      <th>2021-09-07 16:29:59.011610</th>\n",
              "      <td>0.841765</td>\n",
              "      <td>1.848217</td>\n",
              "      <td>0.081090</td>\n",
              "      <td>-0.342458</td>\n",
              "      <td>0.342196</td>\n",
              "      <td>-0.224352</td>\n",
              "    </tr>\n",
              "  </tbody>\n",
              "</table>\n",
              "</div>"
            ],
            "text/plain": [
              "                                   A         B  ...         E         F\n",
              "2021-09-04 16:29:59.011610 -0.304360  0.123223  ... -0.899609  0.474777\n",
              "2021-09-05 16:29:59.011610  1.849958 -0.019161  ... -1.139383 -0.064853\n",
              "2021-09-06 16:29:59.011610 -0.002248  0.647990  ...  0.109782  2.289214\n",
              "2021-09-07 16:29:59.011610  0.841765  1.848217  ...  0.342196 -0.224352\n",
              "\n",
              "[4 rows x 6 columns]"
            ]
          },
          "metadata": {},
          "execution_count": 21
        }
      ]
    },
    {
      "cell_type": "code",
      "metadata": {
        "id": "FLOStyjZf8ky",
        "outputId": "7217d30c-719f-4ed2-ab8b-51646c16931d",
        "colab": {
          "base_uri": "https://localhost:8080/",
          "height": 143
        }
      },
      "source": [
        "#Display the datas from the index 1,2,4 and the column 0 and 2\n",
        "df.iloc[[1,2,4],[0,2]]"
      ],
      "execution_count": 24,
      "outputs": [
        {
          "output_type": "execute_result",
          "data": {
            "text/html": [
              "<div>\n",
              "<style scoped>\n",
              "    .dataframe tbody tr th:only-of-type {\n",
              "        vertical-align: middle;\n",
              "    }\n",
              "\n",
              "    .dataframe tbody tr th {\n",
              "        vertical-align: top;\n",
              "    }\n",
              "\n",
              "    .dataframe thead th {\n",
              "        text-align: right;\n",
              "    }\n",
              "</style>\n",
              "<table border=\"1\" class=\"dataframe\">\n",
              "  <thead>\n",
              "    <tr style=\"text-align: right;\">\n",
              "      <th></th>\n",
              "      <th>A</th>\n",
              "      <th>C</th>\n",
              "    </tr>\n",
              "  </thead>\n",
              "  <tbody>\n",
              "    <tr>\n",
              "      <th>2021-09-04 16:29:59.011610</th>\n",
              "      <td>-0.304360</td>\n",
              "      <td>2.121411</td>\n",
              "    </tr>\n",
              "    <tr>\n",
              "      <th>2021-09-05 16:29:59.011610</th>\n",
              "      <td>1.849958</td>\n",
              "      <td>2.225744</td>\n",
              "    </tr>\n",
              "    <tr>\n",
              "      <th>2021-09-07 16:29:59.011610</th>\n",
              "      <td>0.841765</td>\n",
              "      <td>0.081090</td>\n",
              "    </tr>\n",
              "  </tbody>\n",
              "</table>\n",
              "</div>"
            ],
            "text/plain": [
              "                                   A         C\n",
              "2021-09-04 16:29:59.011610 -0.304360  2.121411\n",
              "2021-09-05 16:29:59.011610  1.849958  2.225744\n",
              "2021-09-07 16:29:59.011610  0.841765  0.081090"
            ]
          },
          "metadata": {},
          "execution_count": 24
        }
      ]
    },
    {
      "cell_type": "code",
      "metadata": {
        "id": "qqtTWkDYiIOk"
      },
      "source": [
        ""
      ],
      "execution_count": null,
      "outputs": []
    }
  ]
}